{
 "cells": [
  {
   "cell_type": "code",
   "execution_count": 2,
   "metadata": {
    "collapsed": true
   },
   "outputs": [],
   "source": [
    "import requests\n",
    "from bs4 import BeautifulSoup\n",
    "\n",
    "\n",
    "def scrapetle():\n",
    "    url = 'http://celestrak.com/NORAD/elements/stations.txt'\n",
    "    response = requests.get(url)\n",
    "    html = response.content\n",
    "    soup = BeautifulSoup(html, \"lxml\")\n",
    "    mytle=(soup.text[:168])\n",
    "    lines = mytle.splitlines()\n",
    "    return (lines)"
   ]
  },
  {
   "cell_type": "code",
   "execution_count": 1,
   "metadata": {
    "collapsed": false
   },
   "outputs": [
    {
     "ename": "NameError",
     "evalue": "name 'scrapetle' is not defined",
     "output_type": "error",
     "traceback": [
      "\u001b[0;31m---------------------------------------------------------------------------\u001b[0m",
      "\u001b[0;31mNameError\u001b[0m                                 Traceback (most recent call last)",
      "\u001b[0;32m<ipython-input-1-6a44dac0e79f>\u001b[0m in \u001b[0;36m<module>\u001b[0;34m()\u001b[0m\n\u001b[1;32m     14\u001b[0m \u001b[0;34m\u001b[0m\u001b[0m\n\u001b[1;32m     15\u001b[0m \u001b[0;31m# Always get the latest ISS TLE data from:\u001b[0m\u001b[0;34m\u001b[0m\u001b[0;34m\u001b[0m\u001b[0m\n\u001b[0;32m---> 16\u001b[0;31m \u001b[0mlines\u001b[0m\u001b[0;34m=\u001b[0m\u001b[0mscrapetle\u001b[0m\u001b[0;34m(\u001b[0m\u001b[0;34m)\u001b[0m\u001b[0;34m\u001b[0m\u001b[0m\n\u001b[0m\u001b[1;32m     17\u001b[0m \u001b[0;31m# http://spaceflight.nasa.gov/realdata/sightings/SSapplications/Post/JavaSSOP/orbit/ISS/SVPOST.html\u001b[0m\u001b[0;34m\u001b[0m\u001b[0;34m\u001b[0m\u001b[0m\n\u001b[1;32m     18\u001b[0m \u001b[0miss\u001b[0m \u001b[0;34m=\u001b[0m \u001b[0mephem\u001b[0m\u001b[0;34m.\u001b[0m\u001b[0mreadtle\u001b[0m\u001b[0;34m(\u001b[0m\u001b[0mlines\u001b[0m\u001b[0;34m[\u001b[0m\u001b[0;36m0\u001b[0m\u001b[0;34m]\u001b[0m\u001b[0;34m,\u001b[0m \u001b[0mlines\u001b[0m\u001b[0;34m[\u001b[0m\u001b[0;36m1\u001b[0m\u001b[0;34m]\u001b[0m\u001b[0;34m,\u001b[0m \u001b[0mlines\u001b[0m\u001b[0;34m[\u001b[0m\u001b[0;36m2\u001b[0m\u001b[0;34m]\u001b[0m\u001b[0;34m)\u001b[0m\u001b[0;34m\u001b[0m\u001b[0m\n",
      "\u001b[0;31mNameError\u001b[0m: name 'scrapetle' is not defined"
     ]
    }
   ],
   "source": [
    "import math\n",
    "import time\n",
    "from datetime import datetime, timedelta\n",
    "import ephem\n",
    "import numpy as np\n",
    " \n",
    "\n",
    "degrees_per_radian = 180.0 / math.pi\n",
    " \n",
    "home = ephem.Observer()\n",
    "home.lon = '0'   # +E\n",
    "home.lat = '0'      # +N\n",
    "home.elevation = 50 # meters\n",
    " \n",
    "# Always get the latest ISS TLE data from:\n",
    "lines=scrapetle()\n",
    "# http://spaceflight.nasa.gov/realdata/sightings/SSapplications/Post/JavaSSOP/orbit/ISS/SVPOST.html\n",
    "iss = ephem.readtle(lines[0], lines[1], lines[2])\n",
    "\n",
    "\n",
    "\n",
    "a=(2016, 4, 7, 9, 10, 45)\n",
    "a=(2016, 4, 8, 21, 10, 45)\n",
    "\n",
    "mydatenow=datetime.utcnow()\n",
    "\n",
    "\n",
    "def getantimeridancrossingtime(time):\n",
    "\n",
    "    #mydate=datetime(2016, 4, 7, 9, 10, 45)\n",
    "    mydatenow=datetime.utcnow()\n",
    "\n",
    "    home.date=mydatenow\n",
    "    iss.compute(home)\n",
    "\n",
    "    issorbitsperday=15.54459501994820\n",
    "    issorbitalperiod=24*60/issorbitsperday\n",
    "\n",
    "\n",
    "    print (\"ISS sublong\" , iss.sublong)\n",
    "    sublong=iss.sublong.real\n",
    "\n",
    "    print (\"Position in degrees\", sublong*180/np.pi)\n",
    "\n",
    "    radtodeg=180/np.pi\n",
    "\n",
    "    angletoam=(sublong+np.pi)\n",
    "    angletoamdeg=angletoam*radtodeg\n",
    "    print (\"Angle to AM in degrees\", angletoam*radtodeg)\n",
    "    timetoam=(angletoamdeg)*issorbitalperiod/360\n",
    "\n",
    "\n",
    "    deltatoam=timedelta(minutes=timetoam)\n",
    "    mydate=mydatenow-deltatoam\n",
    "\n",
    "\n",
    "    print (\"Minutes to antimeridian\" , timetoam)\n",
    "\n",
    "    print (\"time Delta to antimeridian\" , deltatoam)\n",
    "    print (\"Now \", mydatenow)\n",
    "\n",
    "    print (\"Antimeridian time\", mydate)\n",
    "    home.date = mydate\n",
    "    iss.compute(home)\n",
    "            \n",
    "    print (iss.sublong)\n",
    "    return (mydate)\n",
    "\n",
    "mydate=getantimeridancrossingtime(time)\n",
    "#dir(sublong)\n"
   ]
  },
  {
   "cell_type": "code",
   "execution_count": 6,
   "metadata": {
    "collapsed": false
   },
   "outputs": [
    {
     "name": "stdout",
     "output_type": "stream",
     "text": [
      "[-152.9705285762497, -132.4653034802526, -117.72068725100092, -105.96595901016566, -95.09397807804119, -83.31330877873822, -68.4996871483019, -47.85088464576197, -20.078766867241722, 8.835883611297104, 31.280941341959416, 47.23758829980819, 59.53274842853154, 70.45743110029183, 81.82417727551369, 95.60573683179356, 114.44394497782233, 140.49558420819326]\n",
      "[-46.60129129182438, -35.97886156631008, -22.426475347251646, -7.5810284503776675, 7.634805091034117, 22.49733685234324, 36.07241808246633, 46.692716788959586, 51.564315063525335, 48.527513920794696, 39.014013218356155, 25.963374403274152, 11.312190893000029, -3.8833181398759127, -18.887243781627582, -32.866115550198074, -44.414281795059225, -51.029203893000684]\n"
     ]
    }
   ],
   "source": [
    "#datearr=np.array(['2016-04-07T09:10', '2002-04-10T09:10:03.172'], dtype='datetime64')\n",
    "npoints=18\n",
    "\n",
    "def getorbit(mydate,npoints):\n",
    "    lonarr=[0] * npoints\n",
    "    latarr=[0] * npoints\n",
    "#for q in range (0,2):\n",
    "    for i in range(0,npoints):\n",
    "        one_hour = timedelta(hours=1)\n",
    "        min15 = timedelta(minutes=5)\n",
    "        #mydate=datearr[q]\n",
    "        #mydate=datetime(a[0], a[1], a[2], a[3], a[4], a[5])\n",
    "        home.date = mydate +i*min15\n",
    "        iss.compute(home)\n",
    "        dist=2\n",
    "        lonarr[i]=iss.sublong* degrees_per_radian\n",
    "        latarr[i]=iss.sublat* degrees_per_radian\n",
    "        #if ( (iss.alt < dist) and (iss.az < dist)):\n",
    "        #    print (home.date)\n",
    "        #    print('iss: altitude %4.1f deg, azimuth %5.1f deg' % (iss.alt * degrees_per_radian, iss.az * degrees_per_radian))\n",
    " \n",
    "    print (lonarr)\n",
    "    print (latarr)\n",
    "    return (lonarr, latarr)\n",
    "\n",
    "\n",
    "lonarr, latarr=getorbit(mydate, npoints)"
   ]
  },
  {
   "cell_type": "code",
   "execution_count": 98,
   "metadata": {
    "collapsed": false
   },
   "outputs": [
    {
     "name": "stdout",
     "output_type": "stream",
     "text": [
      "Created GPX: <?xml version=\"1.0\" encoding=\"UTF-8\"?>\n",
      "<gpx xmlns=\"http://www.topografix.com/GPX/1/0\" xsi:schemaLocation=\"http://www.topografix.com/GPX/1/0 http://www.topografix.com/GPX/1/0/gpx.xsd\" xmlns:xsi=\"http://www.w3.org/2001/XMLSchema-instance\" version=\"1.0\" creator=\"gpx.py -- https://github.com/tkrajina/gpxpy\">\n",
      "<trk>\n",
      "<trkseg>\n",
      "<trkpt lat=\"30.261603910226714\" lon=\"-152.44311502891964\">\n",
      "<ele>1234</ele></trkpt>\n",
      "<trkpt lat=\"15.96549546791852\" lon=\"-139.289331819634\">\n",
      "<ele>1234</ele></trkpt>\n",
      "<trkpt lat=\"0.8541503205121495\" lon=\"-128.14178007525618\">\n",
      "<ele>1234</ele></trkpt>\n",
      "<trkpt lat=\"-14.285753021752809\" lon=\"-117.10271905565486\">\n",
      "<ele>1234</ele></trkpt>\n",
      "<trkpt lat=\"-28.694789250477054\" lon=\"-104.3188998729521\">\n",
      "<ele>1234</ele></trkpt>\n",
      "<trkpt lat=\"-41.20799975335848\" lon=\"-87.3723740892609\">\n",
      "<ele>1234</ele></trkpt>\n",
      "<trkpt lat=\"-49.68852655138639\" lon=\"-63.574219171752276\">\n",
      "<ele>1234</ele></trkpt>\n",
      "<trkpt lat=\"-51.23213905852552\" lon=\"-34.24756229096817\">\n",
      "<ele>1234</ele></trkpt>\n",
      "<trkpt lat=\"-45.09683625919694\" lon=\"-7.707163261327586\">\n",
      "<ele>1234</ele></trkpt>\n",
      "<trkpt lat=\"-33.80614424038317\" lon=\"11.616073693136713\">\n",
      "<ele>1234</ele></trkpt>\n",
      "<trkpt lat=\"-19.941580810214724\" lon=\"25.671131099256815\">\n",
      "<ele>1234</ele></trkpt>\n",
      "<trkpt lat=\"-4.974498062619748\" lon=\"37.14552959353454\">\n",
      "<ele>1234</ele></trkpt>\n",
      "<trkpt lat=\"10.237092650656988\" lon=\"48.049749018541476\">\n",
      "<ele>1234</ele></trkpt>\n",
      "<trkpt lat=\"24.961846689802258\" lon=\"60.18797530580003\">\n",
      "<ele>1234</ele></trkpt>\n",
      "<trkpt lat=\"38.18065159243914\" lon=\"75.80259371077125\">\n",
      "<ele>1234</ele></trkpt>\n",
      "<trkpt lat=\"48.03536464014943\" lon=\"97.73055404107117\">\n",
      "<ele>1234</ele></trkpt>\n",
      "<trkpt lat=\"51.61239959528222\" lon=\"126.37373096708502\">\n",
      "<ele>1234</ele></trkpt>\n",
      "<trkpt lat=\"47.250685187541684\" lon=\"154.52409608410412\">\n",
      "<ele>1234</ele></trkpt></trkseg></trk></gpx>\n"
     ]
    }
   ],
   "source": [
    "import gpxpy \n",
    "import gpxpy.gpx \n",
    "\n",
    "gpx = gpxpy.gpx.GPX() \n",
    "\n",
    "# Create first track in our GPX: \n",
    "gpx_track = gpxpy.gpx.GPXTrack() \n",
    "gpx.tracks.append(gpx_track) \n",
    "\n",
    "# Create first segment in our GPX track: \n",
    "gpx_segment = gpxpy.gpx.GPXTrackSegment() \n",
    "gpx_track.segments.append(gpx_segment) \n",
    "\n",
    "# Create points: \n",
    "\n",
    "for i in range(0,npoints):\n",
    "    gpx_segment.points.append(gpxpy.gpx.GPXTrackPoint(latarr[i], lonarr[i], elevation=1234)) \n",
    "#    gpx_segment.points.append(gpxpy.gpx.GPXTrackPoint(2.1236, 5.1236, elevation=1236)) \n",
    "\n",
    "# You can add routes and waypoints, too... \n",
    "\n",
    "print ('Created GPX:', gpx.to_xml() )\n"
   ]
  },
  {
   "cell_type": "code",
   "execution_count": null,
   "metadata": {
    "collapsed": true
   },
   "outputs": [],
   "source": []
  },
  {
   "cell_type": "code",
   "execution_count": null,
   "metadata": {
    "collapsed": true
   },
   "outputs": [],
   "source": []
  }
 ],
 "metadata": {
  "kernelspec": {
   "display_name": "Python 3",
   "language": "python",
   "name": "python3"
  },
  "language_info": {
   "codemirror_mode": {
    "name": "ipython",
    "version": 3
   },
   "file_extension": ".py",
   "mimetype": "text/x-python",
   "name": "python",
   "nbconvert_exporter": "python",
   "pygments_lexer": "ipython3",
   "version": "3.4.4"
  }
 },
 "nbformat": 4,
 "nbformat_minor": 0
}
