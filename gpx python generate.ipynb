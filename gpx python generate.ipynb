{
 "cells": [
  {
   "cell_type": "code",
   "execution_count": 3,
   "metadata": {
    "collapsed": true
   },
   "outputs": [],
   "source": [
    "import requests\n",
    "from bs4 import BeautifulSoup\n",
    "\n",
    "\n",
    "def scrapetle():\n",
    "    url = 'http://celestrak.com/NORAD/elements/stations.txt'\n",
    "    response = requests.get(url)\n",
    "    html = response.content\n",
    "    soup = BeautifulSoup(html, \"lxml\")\n",
    "    mytle=(soup.text[:168])\n",
    "    lines = mytle.splitlines()\n",
    "    return (lines)"
   ]
  },
  {
   "cell_type": "code",
   "execution_count": 4,
   "metadata": {
    "collapsed": false
   },
   "outputs": [
    {
     "name": "stdout",
     "output_type": "stream",
     "text": [
      "ISS sublong 167:57:13.1\n",
      "Position in degrees 167.95364135093988\n",
      "Angle to AM in degrees 347.95364135093985\n",
      "Minutes to antimeridian 89.53688170181724\n",
      "time Delta to antimeridian 1:29:32.212902\n",
      "Now  2016-05-05 15:33:58.524159\n",
      "Antimeridian time 2016-05-05 14:04:26.311257\n",
      "-161:55:59.4\n"
     ]
    }
   ],
   "source": [
    "import math\n",
    "import time\n",
    "from datetime import datetime, timedelta\n",
    "import ephem\n",
    "import numpy as np\n",
    " \n",
    "\n",
    "degrees_per_radian = 180.0 / math.pi\n",
    " \n",
    "home = ephem.Observer()\n",
    "home.lon = '0'   # +E\n",
    "home.lat = '0'      # +N\n",
    "home.elevation = 50 # meters\n",
    " \n",
    "# Always get the latest ISS TLE data from:\n",
    "lines=scrapetle()\n",
    "# http://spaceflight.nasa.gov/realdata/sightings/SSapplications/Post/JavaSSOP/orbit/ISS/SVPOST.html\n",
    "iss = ephem.readtle(lines[0], lines[1], lines[2])\n",
    "\n",
    "\n",
    "\n",
    "a=(2016, 4, 7, 9, 10, 45)\n",
    "a=(2016, 4, 8, 21, 10, 45)\n",
    "\n",
    "mydatenow=datetime.utcnow()\n",
    "\n",
    "\n",
    "def getantimeridancrossingtime(time):\n",
    "    import math\n",
    "    import time\n",
    "    from datetime import datetime, timedelta\n",
    "    import ephem\n",
    "    import numpy as np\n",
    "    #mydate=datetime(2016, 4, 7, 9, 10, 45)\n",
    "    mydatenow=datetime.utcnow()\n",
    "\n",
    "    home.date=mydatenow\n",
    "    iss.compute(home)\n",
    "\n",
    "    issorbitsperday=15.54459501994820\n",
    "    issorbitalperiod=24*60/issorbitsperday\n",
    "\n",
    "\n",
    "    print (\"ISS sublong\" , iss.sublong)\n",
    "    sublong=iss.sublong.real\n",
    "\n",
    "    print (\"Position in degrees\", sublong*180/np.pi)\n",
    "\n",
    "    radtodeg=180/np.pi\n",
    "\n",
    "    angletoam=(sublong+np.pi)\n",
    "    angletoamdeg=angletoam*radtodeg\n",
    "    print (\"Angle to AM in degrees\", angletoam*radtodeg)\n",
    "    timetoam=(angletoamdeg)*issorbitalperiod/360\n",
    "\n",
    "\n",
    "    deltatoam=timedelta(minutes=timetoam)\n",
    "    mydate=mydatenow-deltatoam\n",
    "\n",
    "\n",
    "    print (\"Minutes to antimeridian\" , timetoam)\n",
    "\n",
    "    print (\"time Delta to antimeridian\" , deltatoam)\n",
    "    print (\"Now \", mydatenow)\n",
    "\n",
    "    print (\"Antimeridian time\", mydate)\n",
    "    home.date = mydate\n",
    "    iss.compute(home)\n",
    "            \n",
    "    print (iss.sublong)\n",
    "    return (mydate)\n",
    "\n",
    "mydate=getantimeridancrossingtime(time)\n",
    "#dir(sublong)\n"
   ]
  },
  {
   "cell_type": "code",
   "execution_count": 8,
   "metadata": {
    "collapsed": false
   },
   "outputs": [
    {
     "name": "stdout",
     "output_type": "stream",
     "text": [
      "[-161.93317110703214, -150.61132659541394, -136.95108485917183, -118.31341106717463, -92.41452901759104, -62.80878719222562, -38.143065061436566, -20.562308401985483, -7.463088158884473, 3.668967166927049, 14.725433642967685, 27.565893876910053, 44.62340852706667, 68.56876085137824, 97.93349262169059, 124.34689965164041, 143.53958095521452, 157.51993999747677]\n",
      "[3.161666392268576, 18.208311025297267, 32.29110241454221, 44.02262508767235, 50.90941262024241, 50.21876779703282, 42.28765117055698, 30.015887854835505, 15.694212306916661, 0.5732406482053922, -14.563737452104096, -28.95313091054903, -41.41605756076082, -49.79176144559655, -51.18138392280315, -44.91696322740465, -33.55678086397518, -19.662161186364088]\n"
     ]
    }
   ],
   "source": [
    "#datearr=np.array(['2016-04-07T09:10', '2002-04-10T09:10:03.172'], dtype='datetime64')\n",
    "npoints=18\n",
    "\n",
    "def getorbit(mydate,npoints):\n",
    "    lonarr=[0] * npoints\n",
    "    latarr=[0] * npoints\n",
    "#for q in range (0,2):\n",
    "    for i in range(0,npoints):\n",
    "        one_hour = timedelta(hours=1)\n",
    "        min15 = timedelta(minutes=5)\n",
    "        #mydate=datearr[q]\n",
    "        #mydate=datetime(a[0], a[1], a[2], a[3], a[4], a[5])\n",
    "        home.date = mydate +i*min15\n",
    "        iss.compute(home)\n",
    "        dist=2\n",
    "        lonarr[i]=iss.sublong* degrees_per_radian\n",
    "        latarr[i]=iss.sublat* degrees_per_radian\n",
    "        #if ( (iss.alt < dist) and (iss.az < dist)):\n",
    "        #    print (home.date)\n",
    "        #    print('iss: altitude %4.1f deg, azimuth %5.1f deg' % (iss.alt * degrees_per_radian, iss.az * degrees_per_radian))\n",
    " \n",
    "    print (lonarr)\n",
    "    print (latarr)\n",
    "    return (lonarr, latarr)\n",
    "\n",
    "\n",
    "lonarr, latarr=getorbit(mydate, npoints)"
   ]
  },
  {
   "cell_type": "code",
   "execution_count": 7,
   "metadata": {
    "collapsed": false
   },
   "outputs": [
    {
     "name": "stdout",
     "output_type": "stream",
     "text": [
      "Created GPX: <?xml version=\"1.0\" encoding=\"UTF-8\"?>\n",
      "<gpx xmlns:xsi=\"http://www.w3.org/2001/XMLSchema-instance\" xmlns=\"http://www.topografix.com/GPX/1/0\" xsi:schemaLocation=\"http://www.topografix.com/GPX/1/0 http://www.topografix.com/GPX/1/0/gpx.xsd\" version=\"1.0\" creator=\"gpx.py -- https://github.com/tkrajina/gpxpy\">\n",
      "<trk>\n",
      "<trkseg>\n",
      "<trkpt lat=\"3.161666392268576\" lon=\"-161.93317110703214\">\n",
      "<ele>1234</ele></trkpt>\n",
      "<trkpt lat=\"3.161666392268576\" lon=\"-161.93317110703214\">\n",
      "<ele>1234</ele></trkpt>\n",
      "<trkpt lat=\"3.161666392268576\" lon=\"-161.93317110703214\">\n",
      "<ele>1234</ele></trkpt>\n",
      "<trkpt lat=\"3.161666392268576\" lon=\"-161.93317110703214\">\n",
      "<ele>1234</ele></trkpt>\n",
      "<trkpt lat=\"3.161666392268576\" lon=\"-161.93317110703214\">\n",
      "<ele>1234</ele></trkpt>\n",
      "<trkpt lat=\"3.161666392268576\" lon=\"-161.93317110703214\">\n",
      "<ele>1234</ele></trkpt>\n",
      "<trkpt lat=\"3.161666392268576\" lon=\"-161.93317110703214\">\n",
      "<ele>1234</ele></trkpt>\n",
      "<trkpt lat=\"3.161666392268576\" lon=\"-161.93317110703214\">\n",
      "<ele>1234</ele></trkpt>\n",
      "<trkpt lat=\"3.161666392268576\" lon=\"-161.93317110703214\">\n",
      "<ele>1234</ele></trkpt>\n",
      "<trkpt lat=\"3.161666392268576\" lon=\"-161.93317110703214\">\n",
      "<ele>1234</ele></trkpt>\n",
      "<trkpt lat=\"3.161666392268576\" lon=\"-161.93317110703214\">\n",
      "<ele>1234</ele></trkpt>\n",
      "<trkpt lat=\"3.161666392268576\" lon=\"-161.93317110703214\">\n",
      "<ele>1234</ele></trkpt>\n",
      "<trkpt lat=\"3.161666392268576\" lon=\"-161.93317110703214\">\n",
      "<ele>1234</ele></trkpt>\n",
      "<trkpt lat=\"3.161666392268576\" lon=\"-161.93317110703214\">\n",
      "<ele>1234</ele></trkpt>\n",
      "<trkpt lat=\"3.161666392268576\" lon=\"-161.93317110703214\">\n",
      "<ele>1234</ele></trkpt>\n",
      "<trkpt lat=\"3.161666392268576\" lon=\"-161.93317110703214\">\n",
      "<ele>1234</ele></trkpt>\n",
      "<trkpt lat=\"3.161666392268576\" lon=\"-161.93317110703214\">\n",
      "<ele>1234</ele></trkpt>\n",
      "<trkpt lat=\"3.161666392268576\" lon=\"-161.93317110703214\">\n",
      "<ele>1234</ele></trkpt></trkseg></trk></gpx>\n"
     ]
    }
   ],
   "source": [
    "import gpxpy \n",
    "import gpxpy.gpx \n",
    "\n",
    "gpx = gpxpy.gpx.GPX() \n",
    "\n",
    "# Create first track in our GPX: \n",
    "gpx_track = gpxpy.gpx.GPXTrack() \n",
    "gpx.tracks.append(gpx_track) \n",
    "\n",
    "# Create first segment in our GPX track: \n",
    "gpx_segment = gpxpy.gpx.GPXTrackSegment() \n",
    "gpx_track.segments.append(gpx_segment) \n",
    "\n",
    "# Create points: \n",
    "\n",
    "for i in range(0,npoints):\n",
    "    gpx_segment.points.append(gpxpy.gpx.GPXTrackPoint(latarr[i], lonarr[i], elevation=1234)) \n",
    "#    gpx_segment.points.append(gpxpy.gpx.GPXTrackPoint(2.1236, 5.1236, elevation=1236)) \n",
    "\n",
    "# You can add routes and waypoints, too... \n",
    "\n",
    "print ('Created GPX:', gpx.to_xml() )\n"
   ]
  },
  {
   "cell_type": "code",
   "execution_count": null,
   "metadata": {
    "collapsed": true
   },
   "outputs": [],
   "source": []
  },
  {
   "cell_type": "code",
   "execution_count": null,
   "metadata": {
    "collapsed": true
   },
   "outputs": [],
   "source": []
  }
 ],
 "metadata": {
  "kernelspec": {
   "display_name": "Python 3",
   "language": "python",
   "name": "python3"
  },
  "language_info": {
   "codemirror_mode": {
    "name": "ipython",
    "version": 3
   },
   "file_extension": ".py",
   "mimetype": "text/x-python",
   "name": "python",
   "nbconvert_exporter": "python",
   "pygments_lexer": "ipython3",
   "version": "3.4.4"
  }
 },
 "nbformat": 4,
 "nbformat_minor": 0
}
