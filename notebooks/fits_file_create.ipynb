{
 "cells": [
  {
   "cell_type": "code",
   "execution_count": 6,
   "metadata": {
    "collapsed": false
   },
   "outputs": [],
   "source": [
    "from astropy.io import fits\n",
    "import numpy as np\n",
    "import os\n",
    "arr = np.arange(100.0) # a simple sequence of floats from 0.0 to 99.9\n",
    "#Next, we create a PrimaryHDU object to encapsulate the data:\n",
    "\n",
    "\n",
    "\n",
    "fitsname='asimdat01.fits'\n",
    "\n",
    "\n",
    "scalar_vals = {'a': True,\n",
    "       'b': 22.,\n",
    "       'c': 'mytext'}\n",
    "\n",
    "\n",
    "\n",
    "try:\n",
    "    os.remove(fitsname)\n",
    "except OSError:\n",
    "    pass\n",
    "\n",
    "\n",
    "from astropy.table import Table, Column\n",
    "\n",
    "\n",
    "hdu = fits.PrimaryHDU(arr)\n",
    "hdulist = fits.HDUList([hdu])\n",
    "prihdr = hdulist[0].header\n",
    "for key in scalar_vals.iterkeys():\n",
    "    prihdr.set(key, scalar_vals[key])\n",
    "hdulist.writeto(fitsname)\n",
    "\n",
    "\n",
    "\n"
   ]
  },
  {
   "cell_type": "code",
   "execution_count": 14,
   "metadata": {
    "collapsed": false
   },
   "outputs": [
    {
     "name": "stdout",
     "output_type": "stream",
     "text": [
      "Filename: /Users/garmu/Dropbox/myenv/mysite/pulseheightspectrum_809202a40010.fits\n",
      "No.    Name         Type      Cards   Dimensions   Format\n",
      "0    PRIMARY     PrimaryHDU      48   (12288,)     int64   \n"
     ]
    },
    {
     "data": {
      "text/plain": [
       "SIMPLE  =                    T / conforms to FITS standard                      \n",
       "BITPIX  =                   64 / array data type                                \n",
       "NAXIS   =                    1 / number of array dimensions                     \n",
       "NAXIS1  =                12288                                                  \n",
       "EXTEND  =                    T                                                  \n",
       "HIERARCH start_dau_bgo_1_int_tmon_chan2 = 1111                                  \n",
       "HIERARCH start_dau_bgo_1_int_tmon_chan3 = 1111                                  \n",
       "HIERARCH start_dau_bgo_1_int_tmon_chan1 = 1127                                  \n",
       "HIERARCH start_dau_bgo_1_int_tmon_chan4 = 3120                                  \n",
       "HIERARCH data_provided = 1                                                      \n",
       "HIERARCH czt_dau_pulse_height_spectra = ''                                      \n",
       "HIERARCH tcp_count_dhpu = 979                                                   \n",
       "HIERARCH observation_id = '0010    '                                            \n",
       "HIERARCH bgo_dau_pulse_height_spectra = ''                                      \n",
       "HIERARCH end_dau_bgo_4_int_tmon_chan3 = 1108                                    \n",
       "HIERARCH utc_year =                 1970                                        \n",
       "HIERARCH end_dau_bgo_4_int_tmon_chan2 = 1107                                    \n",
       "HIERARCH end_dau_bgo_3_int_tmon_chan3 = 1117                                    \n",
       "HIERARCH utc_msec =                    0                                        \n",
       "HIERARCH end_dau_bgo_3_int_tmon_chan1 = 1134                                    \n",
       "HIERARCH end_dau_bgo_3_int_tmon_chan4 = 3134                                    \n",
       "HIERARCH integration_period = 300                                               \n",
       "HIERARCH end_dau_bgo_1_int_tmon_chan4 = 3121                                    \n",
       "HIERARCH utc_seconds = 979                                                      \n",
       "HIERARCH end_dau_bgo_1_int_tmon_chan1 = 1128                                    \n",
       "HIERARCH end_dau_bgo_1_int_tmon_chan3 = 1113                                    \n",
       "HIERARCH end_dau_bgo_1_int_tmon_chan2 = 1112                                    \n",
       "HIERARCH start_dau_bgo_4_int_tmon_chan4 = 3117                                  \n",
       "HIERARCH start_dau_bgo_4_int_tmon_chan1 = 1123                                  \n",
       "HIERARCH start_dau_bgo_4_int_tmon_chan3 = 1107                                  \n",
       "HIERARCH start_dau_bgo_4_int_tmon_chan2 = 1106                                  \n",
       "HIERARCH end_dau_bgo_3_int_tmon_chan2 = 1119                                    \n",
       "HIERARCH end_dau_bgo_4_int_tmon_chan4 = 3117                                    \n",
       "HIERARCH start_dau_bgo_2_int_tmon_chan4 = 3116                                  \n",
       "HIERARCH start_dau_bgo_2_int_tmon_chan3 = 1107                                  \n",
       "HIERARCH start_dau_bgo_2_int_tmon_chan2 = 1109                                  \n",
       "HIERARCH start_dau_bgo_2_int_tmon_chan1 = 1123                                  \n",
       "HIERARCH end_dau_bgo_4_int_tmon_chan1 = 1125                                    \n",
       "HIERARCH tcp_count_dpu = 978                                                    \n",
       "HIERARCH detector_counts = './pulseheightspectrum_809202a40010.cdf'             \n",
       "HIERARCH start_dau_bgo_3_int_tmon_chan1 = 1133                                  \n",
       "HIERARCH start_dau_bgo_3_int_tmon_chan2 = 1119                                  \n",
       "HIERARCH start_dau_bgo_3_int_tmon_chan3 = 1116                                  \n",
       "HIERARCH start_dau_bgo_3_int_tmon_chan4 = 3134                                  \n",
       "HIERARCH end_dau_bgo_2_int_tmon_chan1 = 1124                                    \n",
       "HIERARCH end_dau_bgo_2_int_tmon_chan2 = 1110                                    \n",
       "HIERARCH end_dau_bgo_2_int_tmon_chan3 = 1108                                    \n",
       "HIERARCH end_dau_bgo_2_int_tmon_chan4 = 3116                                    "
      ]
     },
     "execution_count": 14,
     "metadata": {},
     "output_type": "execute_result"
    }
   ],
   "source": [
    "from astropy.io import fits\n",
    "fitsname2='/Users/garmu/Dropbox/myenv/mysite/pulseheightspectrum_809202a40010.fits'\n",
    "#fitsname2=fitsname\n",
    "\n",
    "hdulist2 = fits.open(fitsname2)\n",
    "hdulist2.info()\n",
    "hdu2=hdulist2[0]\n",
    "hdu2.header"
   ]
  },
  {
   "cell_type": "code",
   "execution_count": null,
   "metadata": {
    "collapsed": true
   },
   "outputs": [],
   "source": []
  }
 ],
 "metadata": {
  "kernelspec": {
   "display_name": "Python 2",
   "language": "python",
   "name": "python2"
  },
  "language_info": {
   "codemirror_mode": {
    "name": "ipython",
    "version": 2
   },
   "file_extension": ".py",
   "mimetype": "text/x-python",
   "name": "python",
   "nbconvert_exporter": "python",
   "pygments_lexer": "ipython2",
   "version": "2.7.12"
  }
 },
 "nbformat": 4,
 "nbformat_minor": 0
}
