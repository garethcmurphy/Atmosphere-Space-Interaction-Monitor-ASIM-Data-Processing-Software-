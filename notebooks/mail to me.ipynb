{
 "cells": [
  {
   "cell_type": "code",
   "execution_count": 10,
   "metadata": {
    "collapsed": false
   },
   "outputs": [],
   "source": [
    "def mailpngfile(me, to, pngfiles):\n",
    "    # Import smtplib for the actual sending function\n",
    "    import smtplib\n",
    "\n",
    "    # Here are the email package modules we'll need\n",
    "    from email.mime.image import MIMEImage\n",
    "    from email.mime.multipart import MIMEMultipart\n",
    "    from email.mime.text import MIMEText\n",
    "\n",
    "    COMMASPACE = ', '\n",
    "\n",
    "    # Create the container (outer) email message.\n",
    "    msg = MIMEMultipart()\n",
    "    msg['Subject'] = 'vaisala'\n",
    "\n",
    "    msg['From'] = me\n",
    "    msg['To'] = to\n",
    "    msg.preamble = 'vaisala'\n",
    "\n",
    "    # Create the body of the message (a plain-text and an HTML version).\n",
    "    text = \"Please find attached vaisala latest report\\nBest wishes\\nGareth\"\n",
    "\n",
    "\n",
    "    # Record the MIME types of both parts - text/plain and text/html.\n",
    "    part1 = MIMEText(text, 'plain')\n",
    "\n",
    "    # Attach parts into message container.\n",
    "    # According to RFC 2046, the last part of a multipart message, in this case\n",
    "    # the HTML message, is best and preferred.\n",
    "    msg.attach(part1)\n",
    "\n",
    "\n",
    "\n",
    "    # Assume we know that the image files are all in PNG format\n",
    "    for file in pngfiles:\n",
    "        # Open the files in binary mode.  Let the MIMEImage class automatically\n",
    "        # guess the specific image type.\n",
    "        fp = open(file, 'rb')\n",
    "        img = MIMEImage(fp.read())\n",
    "        fp.close()\n",
    "        msg.attach(img)\n",
    "\n",
    "\n",
    "\n",
    "\n",
    "\n",
    "\n",
    "    # Send the email via our own SMTP server.\n",
    "    s = smtplib.SMTP('mgw.spacecenter.dk')\n",
    "    s.sendmail(me, to, msg.as_string())\n",
    "    s.quit()\n",
    "\n",
    "    \n",
    "me = \"gmurphy@space.dtu.dk\"\n",
    "to = \"garethcmurphy@gmail.com\"    \n",
    "pngfiles=['vaisalafil20160811T125148.png',]\n",
    "\n",
    "mailpngfile(me, to, pngfiles)"
   ]
  },
  {
   "cell_type": "code",
   "execution_count": null,
   "metadata": {
    "collapsed": true
   },
   "outputs": [],
   "source": []
  }
 ],
 "metadata": {
  "kernelspec": {
   "display_name": "Python 2",
   "language": "python",
   "name": "python2"
  },
  "language_info": {
   "codemirror_mode": {
    "name": "ipython",
    "version": 2
   },
   "file_extension": ".py",
   "mimetype": "text/x-python",
   "name": "python",
   "nbconvert_exporter": "python",
   "pygments_lexer": "ipython2",
   "version": "2.7.12"
  }
 },
 "nbformat": 4,
 "nbformat_minor": 0
}
