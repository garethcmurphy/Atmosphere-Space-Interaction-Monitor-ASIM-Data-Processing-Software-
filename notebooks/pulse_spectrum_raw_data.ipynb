{
 "cells": [
  {
   "cell_type": "code",
   "execution_count": 1,
   "metadata": {
    "collapsed": true
   },
   "outputs": [],
   "source": [
    "#!/usr/bin/env python\n",
    "\n",
    "\"\"\"pulse_spectrum_raw_data.py: read raw data in database\"\"\"\n",
    "\n",
    "\n",
    "__author__ \t\t= \"Gareth Murphy\"\n",
    "__copyright__ \t= \"Copyright 2016, ASDC, DTU Space\"\n",
    "__credits__ \t= [\"NumPy, MatplotLib\"]\n",
    "__license__ \t= \"XXX\"\n",
    "__version__ \t= \"0.0.1\"\n",
    "__maintainer__ \t= \"Gareth Murphy\"\n",
    "__email__ \t\t= \"gmurphy@space.dtu.dk\"\n",
    "__status__ \t\t= \"Draft version, fails sanity check with missing \"\n",
    "\n",
    "import os, sys\n",
    "\n",
    "\n",
    "home=\"/Users/garmu/Dropbox/\"\n",
    "proj_path = home+\"/asdc/web/python_template_site\"\n",
    "\n",
    "proj_path = home+\"/myenv/mysite/\"\n",
    "# This is so Django knows where to find stuff.\n",
    "os.environ.setdefault(\"DJANGO_SETTINGS_MODULE\", \"mysite.settings\")\n",
    "sys.path.append(proj_path)\n",
    "\n",
    "# This is so my local_settings.py gets loaded.\n",
    "os.chdir(proj_path)\n",
    "\n",
    "# This is so models get loaded.\n",
    "from django.core.wsgi import get_wsgi_application\n",
    "application = get_wsgi_application()\n",
    "\n",
    "\n",
    "from asim.models import * \n",
    "    "
   ]
  },
  {
   "cell_type": "code",
   "execution_count": 9,
   "metadata": {
    "collapsed": false
   },
   "outputs": [
    {
     "name": "stdout",
     "output_type": "stream",
     "text": [
      "{'header': '809202a4'}\n",
      "[3, 0, 0, 0, 3433, 3050, 2519, 3335, 2029, 1153, 1027, 854, 827, 774, 701, 550, 560, 583, 826, 759, 696, 754, 478, 210, 126, 101, 97, 65, 72, 63, 66, 76, 67, 37, 43, 31, 36, 45, 76, 77, 49, 24, 8, 6, 4, 8, 5, 2, 4, 1, 2, 4, 10, 4, 2, 2, 4, 8, 1, 4, 2, 3, 4, 6, 3, 2, 4, 2, 3, 2, 3, 3, 3, 5, 3, 3, 1, 5, 2, 2, 1, 4, 1, 4, 1, 2, 1, 3, 5, 2, 0, 2, 4, 1, 2, 4, 2, 3, 1, 4, 4, 2, 2, 0, 2, 1, 3, 4, 3, 2, 1, 4, 1, 0, 1, 4, 3, 2, 0, 0, 0, 3, 5, 2, 4, 0, 2, 2, 0, 1, 2, 1, 2, 2, 0, 1, 0, 4, 1, 2, 4, 2, 2, 2, 1, 3, 2, 1, 0, 1, 2, 1, 1, 1, 1, 1, 3, 1, 3, 1, 2, 1, 0, 2, 2, 1, 0, 1, 0, 1, 1, 1, 4, 2, 2, 0, 4, 2, 1, 1, 0, 3, 2, 1, 0, 2, 1, 0, 0, 0, 1, 0, 1, 0, 0, 0, 1, 0, 0, 2, 1, 0, 0, 1, 1, 2, 1, 0, 0, 0, 0, 0, 0, 0, 1, 0, 0, 1, 2, 1, 1, 4, 0, 0, 0, 1, 1, 2, 1, 2, 1, 0, 1, 2, 1, 1, 0, 3, 0, 1, 0, 2, 0, 0, 0, 0, 1, 1, 1, 1, 2, 0, 0, 1, 0, 0, 0, 1, 0, 1, 0, 0, 2, 0, 1, 1, 0, 2, 0, 2, 1, 0, 2, 0, 0, 1, 0, 0, 4, 1, 1, 0, 2, 1, 0, 1, 0, 4, 1, 0, 1, 1, 2, 1, 1, 2, 0, 1, 3, 0, 1, 0, 0, 1, 1, 1, 2, 0, 1, 2, 1, 0, 1, 1, 2, 0, 0, 0, 1, 2, 1, 2, 1, 0, 0, 1, 1, 2, 2, 0, 1, 2, 0, 3, 0, 1, 0, 1, 1, 1, 2, 3, 0, 2, 1, 3, 2, 1, 3, 2, 3, 0, 0, 1, 2, 1, 1, 0, 0, 0, 2, 0, 3, 0, 4, 3, 2, 1, 2, 5, 2, 1, 3, 4, 5, 1, 1, 5, 2, 0, 7, 3, 5, 3, 3, 5, 8, 5, 3, 5, 5, 1, 2, 3, 4, 7, 6, 4, 7, 5, 4, 14, 10, 10, 15, 9, 14, 10, 6, 8, 13, 9, 10, 7, 5, 5, 4, 3, 2, 2, 1, 3, 1, 1, 1, 0, 2, 2, 0, 1, 3, 0, 0, 1, 0, 1, 0, 0, 0, 0, 1, 0, 0, 0, 0, 0, 1, 1, 0, 0, 1, 0, 0, 0, 0, 0, 0, 0, 0, 0, 0, 0, 0, 0, 0, 0, 0, 0, 0, 0, 0, 0, 0, 0, 0, 0, 0, 0, 0, 0, 0, 0, 0, 0, 0, 0, 0, 0, 0, 0, 0, 0, 0, 0, 0, 0, 0, 0, 0, 0, 0, 0, 0, 0, 0, 0, 0, 0, 0, 0, 0, 0, 0, 0, 0, 0, 0, 0, 0, 0, 0, 0, 0, 0, 0, 0, 0, 0, 0, 0, 0, 0, 0, 0, 0, 0, 0, 0, 0, 0, 0, 0, 0, 0, 0, 0, 0, 0, 0, 0, 0, 0, 0, 0, 0, 0, 0, 0, 0, 0, 0, 0, 0, 0, 0, 0, 0, 0, 0, 0, 0, 0, 0, 0, 0, 0, 0, 0, 0, 0, 0, 0, 0, 0, 0, 0, 0, 0, 0, 0, 0, 0, 0, 0, 0, 0, 0, 0, 0, 0, 0, 0, 0, 0, 0, 0, 0, 0, 0, 0, 0, 0, 0, 0, 0, 0, 0, 0, 0, 0, 0, 0, 0, 0, 0, 0, 0, 0, 0, 0, 0, 0, 0, 0, 0, 0, 0, 0, 0, 0, 0, 0, 0, 0, 0, 0, 0, 0, 0, 0, 0, 0, 0, 0, 0, 0, 0, 0, 0, 0, 0, 0, 0, 0, 0, 0, 0, 0, 0, 0, 0, 0, 0, 0, 0, 0, 0, 0, 0, 0, 0, 0, 0, 0, 0, 0, 0, 0, 0, 0, 0, 0, 0, 0, 0, 0, 0, 0, 0, 0, 0, 0, 0, 0, 0, 0, 0, 0, 0, 0, 0, 0, 0, 0, 0, 0, 0, 0, 0, 0, 0, 0, 0, 0, 0, 0, 0, 0, 0, 0, 0, 0, 0, 0, 0, 0, 0, 0, 0, 0, 0, 0, 0, 0, 0, 0, 0, 0, 0, 0, 0, 0, 0, 0, 0, 0, 0, 0, 0, 0, 0, 0, 0, 0, 0, 0, 0, 0, 0, 0, 0, 0, 0, 0, 0, 0, 0, 0, 0, 0, 0, 0, 0, 0, 0, 0, 0, 0, 0, 0, 0, 0, 0, 0, 0, 0, 0, 0, 0, 0, 0, 0, 0, 0, 0, 0, 0, 0, 0, 0, 0, 0, 0, 0, 0, 0, 0, 0, 0, 0, 0, 0, 0, 0, 0, 0, 0, 0, 0, 0, 0, 0, 0, 0, 0, 0, 0, 0, 0, 0, 0, 0, 0, 0, 0, 0, 0, 0, 0, 0, 0, 0, 0, 0, 0, 0, 0, 0, 0, 0, 0, 0, 0, 0, 0, 0, 0, 0, 0, 0, 0, 0, 0, 0, 0, 0, 0, 0, 0, 0, 0, 0, 0, 0, 0, 0, 0, 0, 0, 0, 0, 0, 0, 0, 0, 0, 0, 0, 0, 0, 0, 0, 0, 0, 0, 0, 0, 0, 0, 0, 0, 0, 0, 0, 0, 0, 0, 0, 0, 0, 0, 0, 0, 0, 0, 0, 0, 0, 0, 0, 0, 0, 0, 0, 0, 0, 0, 0, 0, 0, 0, 0, 0, 0, 0, 0, 0, 0, 0, 0, 0, 0, 0, 0, 0, 0, 0, 0, 0, 0, 0, 0, 0, 0, 0, 0, 0, 0, 0, 0, 0, 0, 0, 0, 0, 0, 0, 0, 0, 0, 0, 0, 0, 0, 0, 0, 0, 0, 0, 0, 0, 0, 0, 0, 0, 0, 0, 0, 0, 0, 0, 0, 0, 0, 0, 0, 0, 0, 5976, 2290, 1763, 1414, 1465, 3288, 1595, 805, 505, 503, 148, 95, 99, 70, 73, 148]\n",
      "11966\n",
      "('continuation_id', 0)\n",
      "('data_provided', 1)\n",
      "('end_dau_bgo_1_int_tmon_chan1', 1129)\n",
      "('end_dau_bgo_1_int_tmon_chan2', 1113)\n",
      "('end_dau_bgo_1_int_tmon_chan3', 1113)\n",
      "('end_dau_bgo_1_int_tmon_chan4', 3120)\n",
      "('end_dau_bgo_2_int_tmon_chan1', 1125)\n",
      "('end_dau_bgo_2_int_tmon_chan2', 1111)\n",
      "('end_dau_bgo_2_int_tmon_chan3', 1109)\n",
      "('end_dau_bgo_2_int_tmon_chan4', 3116)\n",
      "('end_dau_bgo_3_int_tmon_chan1', 1135)\n",
      "('end_dau_bgo_3_int_tmon_chan2', 1120)\n",
      "('end_dau_bgo_3_int_tmon_chan3', 1119)\n",
      "('end_dau_bgo_3_int_tmon_chan4', 3134)\n",
      "('end_dau_bgo_4_int_tmon_chan1', 1126)\n",
      "('end_dau_bgo_4_int_tmon_chan2', 1108)\n",
      "('end_dau_bgo_4_int_tmon_chan3', 1109)\n",
      "('end_dau_bgo_4_int_tmon_chan4', 3117)\n",
      "('header', '809202a4')\n",
      "('integration_period', 300)\n",
      "('last_packet', 1328)\n",
      "('observation_id', '0022')\n",
      "('packet_length', 667)\n",
      "('start_dau_bgo_1_int_tmon_chan1', 1128)\n",
      "('start_dau_bgo_1_int_tmon_chan2', 1113)\n",
      "('start_dau_bgo_1_int_tmon_chan3', 1112)\n",
      "('start_dau_bgo_1_int_tmon_chan4', 3121)\n",
      "('start_dau_bgo_2_int_tmon_chan1', 1124)\n",
      "('start_dau_bgo_2_int_tmon_chan2', 1110)\n",
      "('start_dau_bgo_2_int_tmon_chan3', 1108)\n",
      "('start_dau_bgo_2_int_tmon_chan4', 3116)\n",
      "('start_dau_bgo_3_int_tmon_chan1', 1134)\n",
      "('start_dau_bgo_3_int_tmon_chan2', 1119)\n",
      "('start_dau_bgo_3_int_tmon_chan3', 1117)\n",
      "('start_dau_bgo_3_int_tmon_chan4', 3134)\n",
      "('start_dau_bgo_4_int_tmon_chan1', 1125)\n",
      "('start_dau_bgo_4_int_tmon_chan2', 1107)\n",
      "('start_dau_bgo_4_int_tmon_chan3', 1108)\n",
      "('start_dau_bgo_4_int_tmon_chan4', 3117)\n",
      "('tcp_count_dhpu', 1316)\n",
      "('tcp_count_dpu', 1314)\n",
      "('utc_msec', 0)\n",
      "('utc_seconds', 1316)\n",
      "('utc_year ', 1970)\n",
      "Failed Sanity Check!\n"
     ]
    }
   ],
   "source": [
    "\n",
    "\n",
    "def hex2int(charstr):\n",
    "    return int(charstr,16)\n",
    "\n",
    "\n",
    "\n",
    "path='/Users/garmu/MXGS_PFM_data/PFM_20160513_0912/Section_5_3/raw/'\n",
    "\n",
    "\n",
    "fname='PFM_20160513_0912_raw.txt'\n",
    "i=0\n",
    "\n",
    "import re\n",
    "\n",
    "\n",
    "MXGS = '80'\n",
    "GROUND = '92'\n",
    "SCIENCE_DATA = '02'\n",
    "INITIAL_TGF_TM ='a0'\n",
    "CONTINU_TGF_TM ='a1'\n",
    "INITIAL_BACKGR_TM ='a2'\n",
    "CONTINU_BACKGR_TM ='a3'\n",
    "INITIAL_PULSE_TM ='a4'\n",
    "CONTINU_PULSE_TM ='a5'\n",
    "INITIAL_SAMP_TM ='a6'\n",
    "CONTINU_SAMP_TM ='a7'\n",
    "INITIAL_AUR_TM ='a8'\n",
    "CONTINU_AUR_TM ='a9'\n",
    "\n",
    "regex = re.compile(MXGS+GROUND+SCIENCE_DATA+'a[45]....0022')\n",
    "\n",
    "\n",
    "\n",
    "datalist=[]\n",
    "\n",
    "masterdata=[]\n",
    "total=0\n",
    "import textwrap\n",
    "\n",
    "with open (path+fname) as f:    \n",
    "    for line in f:\n",
    "        if re.match(regex,line):\n",
    "            datalist.append(line)\n",
    "            a=datalist[i]\n",
    "            dl=textwrap.wrap(a, 4)\n",
    "            \n",
    "            total =  total + hex2int (a[8:12])\n",
    "            if ( i > 0) :\n",
    "            # delete first 14 bytes/28 hex (Continuation Header)\n",
    "                dl=dl[28:]\n",
    "                #dl=dl\n",
    "            i=i+1\n",
    "            #print i\n",
    "            #print dl\n",
    "            masterdata.extend(dl)\n",
    "            \n",
    "samp={}\n",
    "\n",
    "\n",
    "\n",
    "\n",
    "x=iter(masterdata)\n",
    "samp['header']=x.next()+x.next()\n",
    "\n",
    "print (samp)\n",
    "\n",
    "samp['packet_length']                   = hex2int (x.next())\n",
    "samp['observation_id']                  =  (x.next())\n",
    "samp['continuation_id']                 = hex2int (x.next())\n",
    "samp['last_packet']                     = hex2int (x.next())\n",
    "samp['utc_year ']                       = hex2int(x.next())\n",
    "samp['utc_msec']                        = hex2int(x.next())\n",
    "samp['utc_seconds']                     = hex2int (x.next()+x.next())\n",
    "samp['tcp_count_dhpu']                  = hex2int (x.next()+x.next())\n",
    "samp['tcp_count_dpu']                  = hex2int (x.next()+x.next())\n",
    "\n",
    "\n",
    "samp['start_dau_bgo_1_int_tmon_chan1']        = hex2int (x.next())\n",
    "samp['start_dau_bgo_1_int_tmon_chan2']        = hex2int (x.next())\n",
    "samp['start_dau_bgo_1_int_tmon_chan3']        = hex2int (x.next())\n",
    "samp['start_dau_bgo_1_int_tmon_chan4']        = hex2int (x.next())\n",
    "samp['start_dau_bgo_2_int_tmon_chan1']        = hex2int (x.next())\n",
    "samp['start_dau_bgo_2_int_tmon_chan2']        = hex2int (x.next())\n",
    "samp['start_dau_bgo_2_int_tmon_chan3']        = hex2int (x.next())\n",
    "samp['start_dau_bgo_2_int_tmon_chan4']        = hex2int (x.next())\n",
    "samp['start_dau_bgo_3_int_tmon_chan1']        = hex2int (x.next())\n",
    "samp['start_dau_bgo_3_int_tmon_chan2']        = hex2int (x.next())\n",
    "samp['start_dau_bgo_3_int_tmon_chan3']        = hex2int (x.next())\n",
    "samp['start_dau_bgo_3_int_tmon_chan4']        = hex2int (x.next())\n",
    "samp['start_dau_bgo_4_int_tmon_chan1']        = hex2int (x.next())\n",
    "samp['start_dau_bgo_4_int_tmon_chan2']        = hex2int (x.next())\n",
    "samp['start_dau_bgo_4_int_tmon_chan3']        = hex2int (x.next())\n",
    "samp['start_dau_bgo_4_int_tmon_chan4']        = hex2int (x.next())\n",
    "\n",
    "samp ['integration_period']  = hex2int (x.next()) \n",
    "samp ['data_provided'] = hex2int (x.next()) \n",
    "\n",
    "\n",
    "if ( samp ['data_provided'] ):\n",
    "    n=12\n",
    "else:\n",
    "    n=4\n",
    "\n",
    "import numpy as np \n",
    "array=np.zeros( (12,1004) )\n",
    "\n",
    "\n",
    "import itertools\n",
    "    \n",
    "pulse_heights_hex=list(itertools.islice(x,  None  ))  \n",
    "det_ev=pulse_heights_hex\n",
    "\n",
    "pulse_heights_int=map(hex2int , pulse_heights_hex)\n",
    "\n",
    "\n",
    "print pulse_heights_int[0:1024]\n",
    "\n",
    "\n",
    "print (len(pulse_heights_int))\n",
    "\n",
    "\n",
    "\n",
    "dataendmark1        = det_ev[-18]\n",
    "dataendmark2        = det_ev[-17]\n",
    "\n",
    "\n",
    "samp['end_dau_bgo_1_int_tmon_chan1']        = hex2int(det_ev[-16])\n",
    "samp['end_dau_bgo_1_int_tmon_chan2']        = hex2int(det_ev[-15])\n",
    "samp['end_dau_bgo_1_int_tmon_chan3']        = hex2int(det_ev[-14])\n",
    "samp['end_dau_bgo_1_int_tmon_chan4']        = hex2int(det_ev[-13])\n",
    "samp['end_dau_bgo_2_int_tmon_chan1']        = hex2int(det_ev[-12])\n",
    "samp['end_dau_bgo_2_int_tmon_chan2']        = hex2int(det_ev[-11])\n",
    "samp['end_dau_bgo_2_int_tmon_chan3']        = hex2int(det_ev[-10])\n",
    "samp['end_dau_bgo_2_int_tmon_chan4']        = hex2int(det_ev[-9])\n",
    "samp['end_dau_bgo_3_int_tmon_chan1']        = hex2int(det_ev[-8])\n",
    "samp['end_dau_bgo_3_int_tmon_chan2']        = hex2int(det_ev[-7])\n",
    "samp['end_dau_bgo_3_int_tmon_chan3']        = hex2int(det_ev[-6])\n",
    "samp['end_dau_bgo_3_int_tmon_chan4']        = hex2int(det_ev[-5])\n",
    "samp['end_dau_bgo_4_int_tmon_chan1']        = hex2int(det_ev[-4])\n",
    "samp['end_dau_bgo_4_int_tmon_chan2']        = hex2int(det_ev[-3])\n",
    "samp['end_dau_bgo_4_int_tmon_chan3']        = hex2int(det_ev[-2])\n",
    "samp['end_dau_bgo_4_int_tmon_chan4']        = hex2int(det_ev[-1])\n",
    "\n",
    "\n",
    "mytgfobs2=MXGSPulseHeightSpectrumObservation(\n",
    "    utc_year                        =samp['utc_year '] ,\n",
    "    utc_seconds                     =samp['utc_seconds'] ,\n",
    "    utc_msec                        =samp['utc_msec'] ,\n",
    "    tcp_count_dhpu                  =samp['tcp_count_dhpu'], \n",
    "    tcp_count_dpu                   =samp['tcp_count_dpu'] , \n",
    "\n",
    "    start_dau_bgo_1_int_tmon_chan1    = samp ['start_dau_bgo_1_int_tmon_chan1'],\n",
    "    start_dau_bgo_1_int_tmon_chan2    = samp ['start_dau_bgo_1_int_tmon_chan2'],\n",
    "    start_dau_bgo_1_int_tmon_chan3    = samp ['start_dau_bgo_1_int_tmon_chan3'],\n",
    "    start_dau_bgo_1_int_tmon_chan4    = samp ['start_dau_bgo_1_int_tmon_chan4'],\n",
    "    start_dau_bgo_2_int_tmon_chan1    = samp ['start_dau_bgo_2_int_tmon_chan1'],\n",
    "    start_dau_bgo_2_int_tmon_chan2    = samp ['start_dau_bgo_2_int_tmon_chan2'],\n",
    "    start_dau_bgo_2_int_tmon_chan3    = samp ['start_dau_bgo_2_int_tmon_chan3'],\n",
    "    start_dau_bgo_2_int_tmon_chan4    = samp ['start_dau_bgo_2_int_tmon_chan4'],\n",
    "    start_dau_bgo_3_int_tmon_chan1    = samp ['start_dau_bgo_3_int_tmon_chan1'],\n",
    "    start_dau_bgo_3_int_tmon_chan2    = samp ['start_dau_bgo_3_int_tmon_chan2'],\n",
    "    start_dau_bgo_3_int_tmon_chan3    = samp ['start_dau_bgo_3_int_tmon_chan3'],\n",
    "    start_dau_bgo_3_int_tmon_chan4    = samp ['start_dau_bgo_3_int_tmon_chan4'],\n",
    "    start_dau_bgo_4_int_tmon_chan1    = samp ['start_dau_bgo_4_int_tmon_chan1'],\n",
    "    start_dau_bgo_4_int_tmon_chan2    = samp ['start_dau_bgo_4_int_tmon_chan2'],\n",
    "    start_dau_bgo_4_int_tmon_chan3    = samp ['start_dau_bgo_4_int_tmon_chan3'],\n",
    "    start_dau_bgo_4_int_tmon_chan4    = samp ['start_dau_bgo_4_int_tmon_chan4'],\n",
    "    \n",
    "\n",
    "    end_dau_bgo_1_int_tmon_chan1    = samp ['end_dau_bgo_1_int_tmon_chan1'],\n",
    "    end_dau_bgo_1_int_tmon_chan2    = samp ['end_dau_bgo_1_int_tmon_chan2'],\n",
    "    end_dau_bgo_1_int_tmon_chan3    = samp ['end_dau_bgo_1_int_tmon_chan3'],\n",
    "    end_dau_bgo_1_int_tmon_chan4    = samp ['end_dau_bgo_1_int_tmon_chan4'],\n",
    "    end_dau_bgo_2_int_tmon_chan1    = samp ['end_dau_bgo_2_int_tmon_chan1'],\n",
    "    end_dau_bgo_2_int_tmon_chan2    = samp ['end_dau_bgo_2_int_tmon_chan2'],\n",
    "    end_dau_bgo_2_int_tmon_chan3    = samp ['end_dau_bgo_2_int_tmon_chan3'],\n",
    "    end_dau_bgo_2_int_tmon_chan4    = samp ['end_dau_bgo_2_int_tmon_chan4'],\n",
    "    end_dau_bgo_3_int_tmon_chan1    = samp ['end_dau_bgo_3_int_tmon_chan1'],\n",
    "    end_dau_bgo_3_int_tmon_chan2    = samp ['end_dau_bgo_3_int_tmon_chan2'],\n",
    "    end_dau_bgo_3_int_tmon_chan3    = samp ['end_dau_bgo_3_int_tmon_chan3'],\n",
    "    end_dau_bgo_3_int_tmon_chan4    = samp ['end_dau_bgo_3_int_tmon_chan4'],\n",
    "    end_dau_bgo_4_int_tmon_chan1    = samp ['end_dau_bgo_4_int_tmon_chan1'],\n",
    "    end_dau_bgo_4_int_tmon_chan2    = samp ['end_dau_bgo_4_int_tmon_chan2'],\n",
    "    end_dau_bgo_4_int_tmon_chan3    = samp ['end_dau_bgo_4_int_tmon_chan3'],\n",
    "    end_dau_bgo_4_int_tmon_chan4    = samp ['end_dau_bgo_4_int_tmon_chan4'],\n",
    "\n",
    "\n",
    "    )\n",
    "#mytgfobs2.save()\n",
    "\n",
    "\n",
    "# sanity check\n",
    "\n",
    "\n",
    "\n",
    "bad_keys=['mybadkey']\n",
    "for key in sorted(samp.iterkeys()):\n",
    "    if key not in bad_keys:\n",
    "        value=samp[key]\n",
    "        print (key, value)\n",
    "        \n",
    "        \n",
    "if len(pulse_heights_hex) != n*1024:\n",
    "    print (\"Failed Sanity Check!\")\n",
    "    \n",
    "    "
   ]
  },
  {
   "cell_type": "code",
   "execution_count": 4,
   "metadata": {
    "collapsed": false
   },
   "outputs": [
    {
     "name": "stdout",
     "output_type": "stream",
     "text": [
      "11966\n",
      "308\n",
      "25.6666666667\n"
     ]
    }
   ],
   "source": [
    "print len(det_ev)\n",
    "print 12*1024 - len(det_ev)-14\n",
    "print 308/12.\n",
    "\n"
   ]
  },
  {
   "cell_type": "code",
   "execution_count": 134,
   "metadata": {
    "collapsed": false
   },
   "outputs": [
    {
     "name": "stdout",
     "output_type": "stream",
     "text": [
      "-1043 -19\n",
      "['0000', '0000', '0000', '0000', '0000', '0000', '0000', '0000', '0000', '0000', '0000', '0000', '0000', '0000', '0000', '0000', '0000', '0000', '0000', '0000', '0000', '0006', '0000', '0000', '0000', '0d9d', '0d22', '0d00', '0a8a', '096a', '083a', '07ac', '0691', '081e', '0b26', '0e53', '0b06', '067a', '03e6', '0368', '02fd', '027c', '0238', '020d', '01e3', '01b9', '019d', '01bb', '0196', '018a', '0153', '0135', '013b', '012b', '0122', '0189', '0233', '02ac', '030b', '029d', '023d', '0188', '0151', '0144', '0132', '00e8', '00b0', '0088', '005a', '0051', '004e', '0046', '004c', '0063', '0046', '0043', '0024', '0018', '0013', '0010', '0014', '0013', '0012', '0014', '0018', '0018', '0019', '0018', '0017', '0010', '0012', '0015', '000d', '000e', '000c', '0011', '0012', '0019', '001e', '0022', '0020', '002c', '0020', '0014', '0009', '000c', '0009', '0007', '0005', '0003', '0003', '0004', '0004', '0005', '0003', '0003', '0000', '0003', '0001', '0001', '0001', '0004', '0000', '0000', '0001', '0002', '0003', '0002', '0004', '0002', '0002', '0002', '0000', '0002', '0002', '0002', '0002', '0001', '0001', '0003', '0002', '0005', '0001', '0001', '0000', '0003', '0002', '0001', '0000', '0000', '0003', '0003', '0002', '0001', '0001', '0005', '0002', '0001', '0004', '0000', '0000', '0001', '0005', '0000', '0000', '0002', '0001', '0001', '0000', '0000', '0004', '0000', '0002', '0002', '0000', '0003', '0003', '0001', '0001', '0001', '0000', '0000', '0000', '0000', '0003', '0001', '0001', '0004', '0001', '0001', '0001', '0003', '0000', '0002', '0000', '0002', '0001', '0001', '0000', '0002', '0000', '0001', '0001', '0002', '0000', '0002', '0000', '0003', '0001', '0000', '0000', '0000', '0000', '0001', '0001', '0000', '0000', '0002', '0003', '0000', '0000', '0001', '0001', '0000', '0000', '0001', '0000', '0002', '0001', '0001', '0000', '0001', '0000', '0001', '0000', '0000', '0001', '0001', '0001', '0001', '0001', '0000', '0000', '0000', '0001', '0001', '0000', '0001', '0000', '0000', '0000', '0003', '0000', '0003', '0000', '0003', '0000', '0001', '0000', '0001', '0000', '0001', '0000', '0000', '0001', '0000', '0000', '0003', '0000', '0004', '0001', '0000', '0000', '0002', '0001', '0001', '0001', '0001', '0000', '0000', '0000', '0000', '0001', '0000', '0001', '0000', '0001', '0001', '0001', '0000', '0001', '0001', '0000', '0000', '0000', '0000', '0001', '0000', '0000', '0000', '0001', '0000', '0001', '0002', '0001', '0001', '0001', '0001', '0000', '0000', '0000', '0000', '0001', '0000', '0000', '0001', '0000', '0000', '0000', '0001', '0000', '0000', '0000', '0000', '0000', '0001', '0000', '0000', '0000', '0000', '0000', '0000', '0002', '0000', '0000', '0000', '0001', '0000', '0000', '0000', '0000', '0000', '0000', '0000', '0000', '0001', '0002', '0000', '0000', '0001', '0001', '0000', '0001', '0000', '0000', '0001', '0001', '0000', '0002', '0000', '0002', '0000', '0000', '0001', '0000', '0000', '0001', '0000', '0001', '0000', '0001', '0000', '0001', '0003', '0000', '0000', '0001', '0000', '0001', '0003', '0001', '0001', '0000', '0000', '0000', '0001', '0001', '0001', '0000', '0002', '0000', '0000', '0002', '0001', '0002', '0002', '0000', '0000', '0002', '0001', '0000', '0002', '0001', '0001', '0002', '0002', '0001', '0001', '0001', '0002', '0003', '0000', '0001', '0002', '0000', '0002', '0000', '0000', '0004', '0002', '0003', '0004', '0001', '0000', '0003', '0001', '0002', '0000', '0001', '0002', '0001', '0000', '0001', '0000', '0002', '0000', '0003', '0003', '0001', '0003', '0005', '0001', '0002', '0002', '0001', '0002', '0002', '0001', '0002', '0003', '0002', '0000', '0001', '0002', '0004', '0004', '0001', '0003', '0001', '0001', '0003', '0002', '0003', '0002', '0002', '0003', '0004', '0003', '0004', '0002', '0008', '0003', '0006', '0008', '0003', '0005', '0006', '0007', '0008', '0004', '0007', '0004', '0007', '000c', '0009', '0008', '000e', '000f', '0013', '0011', '000f', '000c', '000c', '000b', '0013', '000c', '0008', '0009', '0005', '0004', '0003', '0002', '0002', '0005', '0000', '0003', '0001', '0000', '0001', '0001', '0001', '0001', '0000', '0000', '0000', '0000', '0001', '0000', '0001', '0000', '0001', '0000', '0001', '0000', '0000', '0000', '0000', '0000', '0000', '0001', '0000', '0000', '0000', '0000', '0000', '0000', '0000', '0000', '0000', '0000', '0000', '0000', '0000', '0000', '0000', '0000', '0000', '0000', '0000', '0000', '0000', '0000', '0000', '0000', '0000', '0000', '0000', '0000', '0000', '0000', '0000', '0000', '0000', '0000', '0000', '0000', '0000', '0000', '0000', '0000', '0000', '0000', '0000', '0000', '0000', '0000', '0000', '0000', '0000', '0000', '0000', '0000', '0000', '0000', '0000', '0000', '0000', '0000', '0000', '0000', '0000', '0000', '0000', '0000', '0000', '0000', '0000', '0000', '0000', '0000', '0000', '0000', '0000', '0000', '0000', '0000', '0000', '0000', '0000', '0000', '0000', '0000', '0000', '0000', '0000', '0000', '0000', '0000', '0000', '0000', '0000', '0000', '0000', '0000', '0000', '0000', '0000', '0000', '0000', '0000', '0000', '0000', '0000', '0000', '0000', '0000', '0000', '0000', '0000', '0000', '0000', '0000', '0000', '0000', '0000', '0000', '0000', '0000', '0000', '0000', '0000', '0000', '0000', '0000', '0000', '0000', '0000', '0000', '0000', '0000', '0000', '0000', '0000', '0000', '0000', '0000', '0000', '0000', '0000', '0000', '0000', '0000', '0000', '0000', '0000', '0000', '0000', '0000', '0000', '0000', '0000', '0000', '0000', '0000', '0000', '0000', '0000', '0000', '0000', '0000', '0000', '0000', '0000', '0000', '0000', '0000', '0000', '0000', '0000', '0000', '0000', '0000', '0000', '0000', '0000', '0000', '0000', '0000', '0000', '0000', '0000', '0000', '0000', '0000', '0000', '0000', '0000', '0000', '0000', '0000', '0000', '0000', '0000', '0000', '0000', '0000', '0000', '0000', '0000', '0000', '0000', '0000', '0000', '0000', '0000', '0000', '0000', '0000', '0000', '0000', '0000', '0000', '0000', '0000', '0000', '0000', '0000', '0000', '0000', '0000', '0000', '0000', '0000', '0000', '0000', '0000', '0000', '0000', '0000', '0000', '0000', '0000', '0000', '0000', '0000', '0000', '0000', '0000', '0000', '0000', '0000', '0000', '0000', '0000', '0000', '0000', '0000', '0000', '0000', '0000', '0000', '0000', '0000', '0000', '0000', '0000', '0000', '0000', '0000', '0000', '0000', '0000', '0000', '0000', '0000', '0000', '0000', '0000', '0000', '0000', '0000', '0000', '0000', '0000', '0000', '0000', '0000', '0000', '0000', '0000', '0000', '0000', '0000', '0000', '0000', '0000', '0000', '0000', '0000', '0000', '0000', '0000', '0000', '0000', '0000', '0000', '0000', '0000', '0000', '0000', '0000', '0000', '0000', '0000', '0000', '0000', '0000', '0000', '0000', '0000', '0000', '0000', '0000', '0000', '0000', '0000', '0000', '0000', '0000', '0000', '0000', '0000', '0000', '0000', '0000', '0000', '0000', '0000', '0000', '0000', '0000', '0000', '0000', '0000', '0000', '0000', '0000', '0000', '0000', '0000', '0000', '0000', '0000', '0000', '0000', '0000', '0000', '0000', '0000', '0000', '0000', '0000', '0000', '0000', '0000', '0000', '0000', '0000', '0000', '0000', '0000', '0000', '0000', '0000', '0000', '0000', '0000', '0000', '0000', '0000', '0000', '0000', '0000', '0000', '0000', '0000', '0000', '0000', '0000', '0000', '0000', '0000', '0000', '0000', '0000', '0000', '0000', '0000', '0000', '0000', '0000', '0000', '0000', '0000', '0000', '0000', '0000', '0000', '0000', '0000', '0000', '0000', '0000', '0000', '0000', '0000', '0000', '0000', '0000', '0000', '0000', '0000', '0000', '0000', '0000', '0000', '0000', '0000', '0000', '0000', '0000', '0000', '0000', '0000', '0000', '0000', '0000', '0000', '0000', '0000', '0000', '0000', '0000', '0000', '0000', '0000', '0000', '0000', '0000', '0000', '0000', '0000', '0000', '0000', '0000', '0000', '0000', '0000', '0000', '0000', '0000', '0000', '0000', '0000', '0000', '0000', '0000', '0000', '0000', '0000', '0000', '0000', '0000', '0000', '0000', '0000', '0000', '0000', '0000', '0000', '0000', '0000', '0000', '0000', '0000', '0000', '0000', '0000', '0000', '0000', '0000', '0000', '0000', '0000', '0000', '0000', '0000', '0000', '0000', '0000', '0000', '0000', '0000', '0000']\n",
      "[0, 0, 0, 0, 0, 0, 0, 0, 0, 0, 0, 0, 0, 0, 0, 0, 0, 0, 0, 0, 0, 6, 0, 0, 0, 3485, 3362, 3328, 2698, 2410, 2106, 1964, 1681, 2078, 2854, 3667, 2822, 1658, 998, 872, 765, 636, 568, 525, 483, 441, 413, 443, 406, 394, 339, 309, 315, 299, 290, 393, 563, 684, 779, 669, 573, 392, 337, 324, 306, 232, 176, 136, 90, 81, 78, 70, 76, 99, 70, 67, 36, 24, 19, 16, 20, 19, 18, 20, 24, 24, 25, 24, 23, 16, 18, 21, 13, 14, 12, 17, 18, 25, 30, 34, 32, 44, 32, 20, 9, 12, 9, 7, 5, 3, 3, 4, 4, 5, 3, 3, 0, 3, 1, 1, 1, 4, 0, 0, 1, 2, 3, 2, 4, 2, 2, 2, 0, 2, 2, 2, 2, 1, 1, 3, 2, 5, 1, 1, 0, 3, 2, 1, 0, 0, 3, 3, 2, 1, 1, 5, 2, 1, 4, 0, 0, 1, 5, 0, 0, 2, 1, 1, 0, 0, 4, 0, 2, 2, 0, 3, 3, 1, 1, 1, 0, 0, 0, 0, 3, 1, 1, 4, 1, 1, 1, 3, 0, 2, 0, 2, 1, 1, 0, 2, 0, 1, 1, 2, 0, 2, 0, 3, 1, 0, 0, 0, 0, 1, 1, 0, 0, 2, 3, 0, 0, 1, 1, 0, 0, 1, 0, 2, 1, 1, 0, 1, 0, 1, 0, 0, 1, 1, 1, 1, 1, 0, 0, 0, 1, 1, 0, 1, 0, 0, 0, 3, 0, 3, 0, 3, 0, 1, 0, 1, 0, 1, 0, 0, 1, 0, 0, 3, 0, 4, 1, 0, 0, 2, 1, 1, 1, 1, 0, 0, 0, 0, 1, 0, 1, 0, 1, 1, 1, 0, 1, 1, 0, 0, 0, 0, 1, 0, 0, 0, 1, 0, 1, 2, 1, 1, 1, 1, 0, 0, 0, 0, 1, 0, 0, 1, 0, 0, 0, 1, 0, 0, 0, 0, 0, 1, 0, 0, 0, 0, 0, 0, 2, 0, 0, 0, 1, 0, 0, 0, 0, 0, 0, 0, 0, 1, 2, 0, 0, 1, 1, 0, 1, 0, 0, 1, 1, 0, 2, 0, 2, 0, 0, 1, 0, 0, 1, 0, 1, 0, 1, 0, 1, 3, 0, 0, 1, 0, 1, 3, 1, 1, 0, 0, 0, 1, 1, 1, 0, 2, 0, 0, 2, 1, 2, 2, 0, 0, 2, 1, 0, 2, 1, 1, 2, 2, 1, 1, 1, 2, 3, 0, 1, 2, 0, 2, 0, 0, 4, 2, 3, 4, 1, 0, 3, 1, 2, 0, 1, 2, 1, 0, 1, 0, 2, 0, 3, 3, 1, 3, 5, 1, 2, 2, 1, 2, 2, 1, 2, 3, 2, 0, 1, 2, 4, 4, 1, 3, 1, 1, 3, 2, 3, 2, 2, 3, 4, 3, 4, 2, 8, 3, 6, 8, 3, 5, 6, 7, 8, 4, 7, 4, 7, 12, 9, 8, 14, 15, 19, 17, 15, 12, 12, 11, 19, 12, 8, 9, 5, 4, 3, 2, 2, 5, 0, 3, 1, 0, 1, 1, 1, 1, 0, 0, 0, 0, 1, 0, 1, 0, 1, 0, 1, 0, 0, 0, 0, 0, 0, 1, 0, 0, 0, 0, 0, 0, 0, 0, 0, 0, 0, 0, 0, 0, 0, 0, 0, 0, 0, 0, 0, 0, 0, 0, 0, 0, 0, 0, 0, 0, 0, 0, 0, 0, 0, 0, 0, 0, 0, 0, 0, 0, 0, 0, 0, 0, 0, 0, 0, 0, 0, 0, 0, 0, 0, 0, 0, 0, 0, 0, 0, 0, 0, 0, 0, 0, 0, 0, 0, 0, 0, 0, 0, 0, 0, 0, 0, 0, 0, 0, 0, 0, 0, 0, 0, 0, 0, 0, 0, 0, 0, 0, 0, 0, 0, 0, 0, 0, 0, 0, 0, 0, 0, 0, 0, 0, 0, 0, 0, 0, 0, 0, 0, 0, 0, 0, 0, 0, 0, 0, 0, 0, 0, 0, 0, 0, 0, 0, 0, 0, 0, 0, 0, 0, 0, 0, 0, 0, 0, 0, 0, 0, 0, 0, 0, 0, 0, 0, 0, 0, 0, 0, 0, 0, 0, 0, 0, 0, 0, 0, 0, 0, 0, 0, 0, 0, 0, 0, 0, 0, 0, 0, 0, 0, 0, 0, 0, 0, 0, 0, 0, 0, 0, 0, 0, 0, 0, 0, 0, 0, 0, 0, 0, 0, 0, 0, 0, 0, 0, 0, 0, 0, 0, 0, 0, 0, 0, 0, 0, 0, 0, 0, 0, 0, 0, 0, 0, 0, 0, 0, 0, 0, 0, 0, 0, 0, 0, 0, 0, 0, 0, 0, 0, 0, 0, 0, 0, 0, 0, 0, 0, 0, 0, 0, 0, 0, 0, 0, 0, 0, 0, 0, 0, 0, 0, 0, 0, 0, 0, 0, 0, 0, 0, 0, 0, 0, 0, 0, 0, 0, 0, 0, 0, 0, 0, 0, 0, 0, 0, 0, 0, 0, 0, 0, 0, 0, 0, 0, 0, 0, 0, 0, 0, 0, 0, 0, 0, 0, 0, 0, 0, 0, 0, 0, 0, 0, 0, 0, 0, 0, 0, 0, 0, 0, 0, 0, 0, 0, 0, 0, 0, 0, 0, 0, 0, 0, 0, 0, 0, 0, 0, 0, 0, 0, 0, 0, 0, 0, 0, 0, 0, 0, 0, 0, 0, 0, 0, 0, 0, 0, 0, 0, 0, 0, 0, 0, 0, 0, 0, 0, 0, 0, 0, 0, 0, 0, 0, 0, 0, 0, 0, 0, 0, 0, 0, 0, 0, 0, 0, 0, 0, 0, 0, 0, 0, 0, 0, 0, 0, 0, 0, 0, 0, 0, 0, 0, 0, 0, 0, 0, 0, 0, 0, 0, 0, 0, 0, 0, 0, 0, 0, 0, 0, 0, 0, 0, 0, 0, 0, 0, 0, 0, 0, 0, 0, 0, 0, 0, 0, 0, 0, 0, 0, 0, 0, 0, 0, 0, 0, 0, 0, 0, 0, 0, 0, 0, 0, 0, 0, 0, 0, 0, 0, 0, 0, 0, 0, 0, 0, 0, 0, 0, 0, 0, 0, 0, 0, 0, 0, 0, 0, 0, 0, 0, 0, 0, 0, 0, 0, 0, 0, 0, 0, 0, 0, 0, 0, 0, 0, 0, 0, 0, 0, 0]\n"
     ]
    }
   ],
   "source": [
    "\n",
    "def hexlist2int(charstr):\n",
    "    return int(charstr,16)\n",
    "\n",
    "q1=-1024-19\n",
    "q2=-19\n",
    "print q1,q2\n",
    "print (det_ev[q1:q2])\n",
    "\n",
    "\n",
    "print map(hex2int , det_ev[q1:q2])"
   ]
  },
  {
   "cell_type": "code",
   "execution_count": null,
   "metadata": {
    "collapsed": true
   },
   "outputs": [],
   "source": [
    "    \n",
    "'''    \n",
    "    end_dau_bgo_1_int_tmon_chan1    = samp ['end_dau_bgo_1_int_tmon_chan1'],\n",
    "    end_dau_bgo_1_int_tmon_chan2    = samp ['end_dau_bgo_1_int_tmon_chan2'],\n",
    "    end_dau_bgo_1_int_tmon_chan3    = samp ['end_dau_bgo_1_int_tmon_chan3'],\n",
    "    end_dau_bgo_1_int_tmon_chan4    = samp ['end_dau_bgo_1_int_tmon_chan4'],\n",
    "    end_dau_bgo_2_int_tmon_chan1    = samp ['end_dau_bgo_2_int_tmon_chan1'],\n",
    "    end_dau_bgo_2_int_tmon_chan2    = samp ['end_dau_bgo_2_int_tmon_chan2'],\n",
    "    end_dau_bgo_2_int_tmon_chan3    = samp ['end_dau_bgo_2_int_tmon_chan3'],\n",
    "    end_dau_bgo_2_int_tmon_chan4    = samp ['end_dau_bgo_2_int_tmon_chan4'],\n",
    "    end_dau_bgo_3_int_tmon_chan1    = samp ['end_dau_bgo_3_int_tmon_chan1'],\n",
    "    end_dau_bgo_3_int_tmon_chan2    = samp ['end_dau_bgo_3_int_tmon_chan2'],\n",
    "    end_dau_bgo_3_int_tmon_chan3    = samp ['end_dau_bgo_3_int_tmon_chan3'],\n",
    "    end_dau_bgo_3_int_tmon_chan4    = samp ['end_dau_bgo_3_int_tmon_chan4'],\n",
    "    end_dau_bgo_4_int_tmon_chan1    = samp ['end_dau_bgo_4_int_tmon_chan1'],\n",
    "    end_dau_bgo_4_int_tmon_chan2    = samp ['end_dau_bgo_4_int_tmon_chan2'],\n",
    "    end_dau_bgo_4_int_tmon_chan3    = samp ['end_dau_bgo_4_int_tmon_chan3'],\n",
    "    end_dau_bgo_4_int_tmon_chan4    = samp ['end_dau_bgo_4_int_tmon_chan4'],\n",
    "'''"
   ]
  },
  {
   "cell_type": "code",
   "execution_count": 63,
   "metadata": {
    "collapsed": false
   },
   "outputs": [
    {
     "name": "stdout",
     "output_type": "stream",
     "text": [
      "3117\n"
     ]
    }
   ],
   "source": [
    "print hex2int(det_ev[-1])"
   ]
  },
  {
   "cell_type": "code",
   "execution_count": 80,
   "metadata": {
    "collapsed": false
   },
   "outputs": [
    {
     "name": "stdout",
     "output_type": "stream",
     "text": [
      "12381\n"
     ]
    }
   ],
   "source": [
    "print 12*1024+34+59"
   ]
  },
  {
   "cell_type": "code",
   "execution_count": 102,
   "metadata": {
    "collapsed": false
   },
   "outputs": [
    {
     "name": "stdout",
     "output_type": "stream",
     "text": [
      "12288\n"
     ]
    }
   ],
   "source": [
    "print 12*1024"
   ]
  },
  {
   "cell_type": "code",
   "execution_count": null,
   "metadata": {
    "collapsed": true
   },
   "outputs": [],
   "source": []
  }
 ],
 "metadata": {
  "kernelspec": {
   "display_name": "Python 2",
   "language": "python",
   "name": "python2"
  },
  "language_info": {
   "codemirror_mode": {
    "name": "ipython",
    "version": 2
   },
   "file_extension": ".py",
   "mimetype": "text/x-python",
   "name": "python",
   "nbconvert_exporter": "python",
   "pygments_lexer": "ipython2",
   "version": "2.7.12"
  }
 },
 "nbformat": 4,
 "nbformat_minor": 0
}
