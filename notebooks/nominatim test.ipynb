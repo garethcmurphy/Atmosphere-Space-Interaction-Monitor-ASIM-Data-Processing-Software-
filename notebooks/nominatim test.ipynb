{
 "cells": [
  {
   "cell_type": "code",
   "execution_count": 9,
   "metadata": {
    "collapsed": false
   },
   "outputs": [],
   "source": [
    "import requests\n",
    "username='electrovej'\n",
    "req = requests.get('http://nominatim.openstreetmap.org/search/Unter%20den%20Linden%201%20Berlin?format=json&addressdetails=1&limit=1&polygon_svg=1'  )\n"
   ]
  },
  {
   "cell_type": "code",
   "execution_count": 10,
   "metadata": {
    "collapsed": false
   },
   "outputs": [
    {
     "name": "stdout",
     "output_type": "stream",
     "text": [
      "[[{'address': {'country': 'Deutschland', 'country_code': 'de', 'neighbourhood': 'Scheunenviertel', 'public_building': 'Kommandantenhaus', 'postcode': '10117', 'city_district': 'Mitte', 'city': 'Berlin', 'house_number': '1', 'road': 'Unter den Linden', 'suburb': 'Mitte', 'state': 'Berlin'}, 'importance': 0.62606775332943, 'class': 'amenity', 'place_id': '59815669', 'boundingbox': ['52.5170798', '52.5173311', '13.3975116', '13.3981577'], 'osm_id': '15976890', 'licence': 'Data © OpenStreetMap contributors, ODbL 1.0. http://www.openstreetmap.org/copyright', 'display_name': 'Kommandantenhaus, 1, Unter den Linden, Scheunenviertel, Mitte, Berlin, 10117, Deutschland', 'osm_type': 'way', 'lat': '52.51720765', 'svg': 'M 13.3975116 -52.517290500000001 L 13.3978115 -52.517310299999998 13.398121 -52.5173311 13.398157700000001 -52.517120300000002 13.397992199999999 -52.517109300000001 13.397989300000001 -52.517124799999998 13.3979623 -52.517123300000002 13.3979655 -52.517106900000002 13.397741699999999 -52.517092400000003 13.3977392 -52.5171086 13.397712200000001 -52.517106400000003 13.397715 -52.517090600000003 13.397549 -52.517079799999998 Z', 'type': 'public_building', 'lon': '13.3978343993255'}]]\n"
     ]
    }
   ],
   "source": [
    "jsonList = []\n",
    "jsonList.append(req.json())\n",
    "print (jsonList)\n"
   ]
  },
  {
   "cell_type": "code",
   "execution_count": 13,
   "metadata": {
    "collapsed": false
   },
   "outputs": [
    {
     "name": "stdout",
     "output_type": "stream",
     "text": [
      "{'country': 'Deutschland', 'country_code': 'de', 'neighbourhood': 'Scheunenviertel', 'public_building': 'Kommandantenhaus', 'postcode': '10117', 'city_district': 'Mitte', 'city': 'Berlin', 'house_number': '1', 'road': 'Unter den Linden', 'suburb': 'Mitte', 'state': 'Berlin'}\n"
     ]
    }
   ],
   "source": [
    "print (jsonList[0][0]['address'])"
   ]
  },
  {
   "cell_type": "code",
   "execution_count": null,
   "metadata": {
    "collapsed": true
   },
   "outputs": [],
   "source": []
  }
 ],
 "metadata": {
  "kernelspec": {
   "display_name": "Python 3",
   "language": "python",
   "name": "python3"
  },
  "language_info": {
   "codemirror_mode": {
    "name": "ipython",
    "version": 3
   },
   "file_extension": ".py",
   "mimetype": "text/x-python",
   "name": "python",
   "nbconvert_exporter": "python",
   "pygments_lexer": "ipython3",
   "version": "3.4.4"
  }
 },
 "nbformat": 4,
 "nbformat_minor": 0
}
