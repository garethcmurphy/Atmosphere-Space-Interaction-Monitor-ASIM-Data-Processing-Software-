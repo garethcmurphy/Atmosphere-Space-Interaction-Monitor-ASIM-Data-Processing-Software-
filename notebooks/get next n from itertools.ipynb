{
 "cells": [
  {
   "cell_type": "code",
   "execution_count": 22,
   "metadata": {
    "collapsed": false
   },
   "outputs": [
    {
     "name": "stdout",
     "output_type": "stream",
     "text": [
      "[]\n",
      "[]\n",
      "[]\n"
     ]
    }
   ],
   "source": [
    "arr=[1,2,3,4,5,6,7,8,9,10]\n",
    "\n",
    "import itertools\n",
    "def get_next_n(it, n):\n",
    "    y=itertools.islice(it, n,1)\n",
    "    return y\n",
    "\n",
    "\n",
    "it=get_next_n(arr,2)\n",
    "print list(it)\n",
    "\n",
    "it=get_next_n(it,2)\n",
    "print list(it)\n",
    "\n",
    "it=get_next_n(it,2)\n",
    "print list(it)"
   ]
  },
  {
   "cell_type": "code",
   "execution_count": null,
   "metadata": {
    "collapsed": true
   },
   "outputs": [],
   "source": []
  },
  {
   "cell_type": "code",
   "execution_count": null,
   "metadata": {
    "collapsed": true
   },
   "outputs": [],
   "source": []
  }
 ],
 "metadata": {
  "kernelspec": {
   "display_name": "Python 2",
   "language": "python",
   "name": "python2"
  },
  "language_info": {
   "codemirror_mode": {
    "name": "ipython",
    "version": 2
   },
   "file_extension": ".py",
   "mimetype": "text/x-python",
   "name": "python",
   "nbconvert_exporter": "python",
   "pygments_lexer": "ipython2",
   "version": "2.7.12"
  }
 },
 "nbformat": 4,
 "nbformat_minor": 1
}
