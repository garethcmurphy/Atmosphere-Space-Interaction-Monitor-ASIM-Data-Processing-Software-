{
 "cells": [
  {
   "cell_type": "code",
   "execution_count": 1,
   "metadata": {
    "collapsed": false
   },
   "outputs": [],
   "source": [
    "\n",
    "import psycopg2\n",
    "import sys\n",
    "\n",
    "\n",
    "con = None\n",
    "\n",
    "try:\n",
    "     \n",
    "    con = psycopg2.connect(host='gld.spacecenter.dk', database='gld', user='gmurphy', password='j-l%CHB2Za') \n",
    "    cur = con.cursor()\n",
    "    cur.execute(\"SELECT * FROM lightnings LIMIT 0\")\n",
    "    colnames = [desc[0] for desc in cur.description]\n",
    "    cur.execute(\"SELECT * FROM lightnings  WHERE ltime   BETWEEN '2015-09-09 00:00:00' AND '2015-09-09 23:59:59' LIMIT 40 ;\")          \n",
    "    data =  list (cur.fetchall())\n",
    "\n",
    "    #for row in rows:\n",
    "    #    print (row)\n",
    "    \n",
    "except :\n",
    "    print ('Error '     )\n",
    "    sys.exit(1)\n",
    "    \n",
    "    \n",
    "finally:\n",
    "    \n",
    "    if con:\n",
    "        con.close()\n",
    "        \n",
    "        \n",
    "from numpy import array\n",
    "nparr = array( data )\n",
    "\n",
    "id=nparr[:,0]\n",
    "ltime=nparr[:,1]\n",
    "ltime_ns=nparr[:,2]\n",
    "lcurrent=nparr[:,3]\n",
    "lats=nparr[:,4]\n",
    "lons=nparr[:,5]\n"
   ]
  },
  {
   "cell_type": "code",
   "execution_count": 2,
   "metadata": {
    "collapsed": false
   },
   "outputs": [
    {
     "name": "stdout",
     "output_type": "stream",
     "text": [
      "[1.6959 1.6963 15.3168 15.1152 13.611 13.5661 13.6248 14.0732 15.2827\n",
      " 13.8927 14.0748 14.0524 14.0506 14.0961 15.1784 14.0315 13.7815 15.3127\n",
      " 15.3037 15.4266 15.2824 15.2814 14.0606 14.0079 14.0872 14.0715 14.0682\n",
      " 13.8857 13.9508 15.2604 15.2747 15.255 15.2563 15.2915 15.2593 15.2494\n",
      " 15.264 15.2616 15.2834 15.2965]\n"
     ]
    }
   ],
   "source": [
    "\n",
    "print (lats)"
   ]
  },
  {
   "cell_type": "code",
   "execution_count": 3,
   "metadata": {
    "collapsed": false
   },
   "outputs": [
    {
     "name": "stdout",
     "output_type": "stream",
     "text": [
      "[262 263 264 265 266 267 268 269 270 271 272 273 274 275 276 277 278 279\n",
      " 280 281 282 283 284 285 286 287 288 289 290 291 292 293 294 295 296 297\n",
      " 298 299 300 301]\n"
     ]
    }
   ],
   "source": [
    "print (nparr[:,0])"
   ]
  },
  {
   "cell_type": "code",
   "execution_count": 4,
   "metadata": {
    "collapsed": false
   },
   "outputs": [
    {
     "name": "stdout",
     "output_type": "stream",
     "text": [
      "(266, datetime.datetime(2015, 9, 9, 0, 0, 2, tzinfo=psycopg2.tz.FixedOffsetTimezone(offset=120, name=None)), 357000000, -11.1, 13.611, 80.9551)\n"
     ]
    }
   ],
   "source": [
    "print (data[:][4])"
   ]
  },
  {
   "cell_type": "code",
   "execution_count": null,
   "metadata": {
    "collapsed": true
   },
   "outputs": [],
   "source": []
  },
  {
   "cell_type": "code",
   "execution_count": null,
   "metadata": {
    "collapsed": true
   },
   "outputs": [],
   "source": []
  }
 ],
 "metadata": {
  "kernelspec": {
   "display_name": "Python 3",
   "language": "python",
   "name": "python3"
  },
  "language_info": {
   "codemirror_mode": {
    "name": "ipython",
    "version": 3
   },
   "file_extension": ".py",
   "mimetype": "text/x-python",
   "name": "python",
   "nbconvert_exporter": "python",
   "pygments_lexer": "ipython3",
   "version": "3.4.4"
  }
 },
 "nbformat": 4,
 "nbformat_minor": 0
}
