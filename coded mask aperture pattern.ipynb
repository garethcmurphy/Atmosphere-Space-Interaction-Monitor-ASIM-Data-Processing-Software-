{
 "cells": [
  {
   "cell_type": "code",
   "execution_count": 46,
   "metadata": {
    "collapsed": false
   },
   "outputs": [
    {
     "data": {
      "text/plain": [
       "<matplotlib.image.AxesImage at 0x10eeb4518>"
      ]
     },
     "execution_count": 46,
     "metadata": {},
     "output_type": "execute_result"
    },
    {
     "data": {
      "image/png": "[encoded data removed]",
      "text/plain": [
       "<matplotlib.figure.Figure at 0x10edf56d8>"
      ]
     },
     "metadata": {},
     "output_type": "display_data"
    }
   ],
   "source": [
    "%matplotlib inline\n",
    "\n",
    "import numpy as np\n",
    "\n",
    "\n",
    "my_cmap = plt.cm.get_cmap('inferno')\n",
    "my_cmap.set_under('w')\n",
    "\n",
    "import matplotlib.pyplot as plt\n",
    "x = np.array([[1, 1, 1, 1,1, 0,0,0], \n",
    "              [0, 1, 0, 0,0, 1,1,0], \n",
    "              [0, 1, 0, 1,0, 0,1,0], \n",
    "              [0, 1, 0, 1,0, 1,1,1], \n",
    "              [1, 0, 1, 0,1, 1,0,1], \n",
    "              [0, 0, 0, 1,0, 0,1,1], \n",
    "              [0, 0, 0, 0,0, 1,1,1], \n",
    "              [0, 0, 0, 0,0, 0,1,0], \n",
    "             ],\n",
    "              np.bool_)\n",
    "\n",
    "\n",
    "x=np.concatenate( (x,x), axis=0)\n",
    "x=np.concatenate( (x,x), axis=1)\n",
    "\n",
    "y=np.empty_like(x)\n",
    "y[:,:]=0\n",
    "\n",
    "y[6:10,6:10]=1\n",
    "y[6,9]=0\n",
    "\n",
    "z=np.logical_or(x,y)\n",
    "\n",
    "plt.imshow(z,interpolation='nearest',        cmap=my_cmap)"
   ]
  },
  {
   "cell_type": "code",
   "execution_count": null,
   "metadata": {
    "collapsed": true
   },
   "outputs": [],
   "source": []
  },
  {
   "cell_type": "code",
   "execution_count": null,
   "metadata": {
    "collapsed": true
   },
   "outputs": [],
   "source": []
  }
 ],
 "metadata": {
  "kernelspec": {
   "display_name": "Python 3",
   "language": "python",
   "name": "python3"
  },
  "language_info": {
   "codemirror_mode": {
    "name": "ipython",
    "version": 3
   },
   "file_extension": ".py",
   "mimetype": "text/x-python",
   "name": "python",
   "nbconvert_exporter": "python",
   "pygments_lexer": "ipython3",
   "version": "3.4.4"
  }
 },
 "nbformat": 4,
 "nbformat_minor": 0
}
