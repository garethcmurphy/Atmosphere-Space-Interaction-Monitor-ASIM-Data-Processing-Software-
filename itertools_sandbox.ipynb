{
 "cells": [
  {
   "cell_type": "code",
   "execution_count": 38,
   "metadata": {
    "collapsed": false
   },
   "outputs": [
    {
     "name": "stdout",
     "output_type": "stream",
     "text": [
      "['0b11110001', '0b11110010', '0b00110000', '0b00110001', '0b00110010', '0b00110000']\n",
      "unique keys ['00', '01', '10']\n"
     ]
    }
   ],
   "source": [
    "import itertools\n",
    "\n",
    "from bitstring import BitArray\n",
    "bgolist=[BitArray('0b11110001'), BitArray('0b11110010'),  BitArray('0b00110000'), BitArray('0b00110001'),  BitArray('0b00110010'),  BitArray('0b00110000') ]\n",
    "\n",
    "\n",
    "stringbgolist=map ( lambda x:x.bin, bgolist)\n",
    "\n",
    "print stringbgolist\n",
    "stringbgolist.sort(key=lambda y: y[8:10])\n",
    "\n",
    "bgogroups = []\n",
    "uniquekeys = []\n",
    "        \n",
    "for k, g in itertools.groupby(stringbgolist,  key=lambda y: y[8:10]):\n",
    "            bgogroups.append(list(g))  # Store group iterator as a list\n",
    "            uniquekeys.append(k)\n",
    "print 'unique keys' , uniquekeys"
   ]
  },
  {
   "cell_type": "code",
   "execution_count": 40,
   "metadata": {
    "collapsed": false
   },
   "outputs": [
    {
     "name": "stdout",
     "output_type": "stream",
     "text": [
      "3\n"
     ]
    }
   ],
   "source": [
    "\n",
    "\n"
   ]
  },
  {
   "cell_type": "code",
   "execution_count": 25,
   "metadata": {
    "collapsed": false
   },
   "outputs": [
    {
     "name": "stdout",
     "output_type": "stream",
     "text": [
      "0b11110001\n",
      "0b01\n"
     ]
    }
   ],
   "source": [
    "a=bgolist[0]\n",
    "\n",
    "print a.bin\n",
    "print a[6:8]"
   ]
  },
  {
   "cell_type": "code",
   "execution_count": null,
   "metadata": {
    "collapsed": true
   },
   "outputs": [],
   "source": []
  }
 ],
 "metadata": {
  "kernelspec": {
   "display_name": "Python 2",
   "language": "python",
   "name": "python2"
  },
  "language_info": {
   "codemirror_mode": {
    "name": "ipython",
    "version": 2
   },
   "file_extension": ".py",
   "mimetype": "text/x-python",
   "name": "python",
   "nbconvert_exporter": "python",
   "pygments_lexer": "ipython2",
   "version": "2.7.12"
  }
 },
 "nbformat": 4,
 "nbformat_minor": 1
}
