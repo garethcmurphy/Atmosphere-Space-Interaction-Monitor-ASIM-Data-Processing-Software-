{
 "cells": [
  {
   "cell_type": "code",
   "execution_count": 7,
   "metadata": {
    "collapsed": false
   },
   "outputs": [],
   "source": [
    "import os, sys\n",
    "\n",
    "home=\"/Users/garmu\"\n",
    "proj_path = home+\"/Dropbox/asdc/\"\n",
    "# This is so Django knows where to find stuff.\n",
    "os.environ.setdefault(\"DJANGO_SETTINGS_MODULE\", \"asdc.settings\")\n",
    "sys.path.append(proj_path)\n",
    "\n",
    "# This is so my local_settings.py gets loaded.\n",
    "os.chdir(proj_path)\n",
    "\n",
    "# This is so models get loaded.\n",
    "from django.core.wsgi import get_wsgi_application\n",
    "application = get_wsgi_application()\n",
    "\n",
    "\n"
   ]
  },
  {
   "cell_type": "code",
   "execution_count": 8,
   "metadata": {
    "collapsed": false
   },
   "outputs": [],
   "source": [
    "from asim.models import * \n",
    "q=MXGSStartupHousekeepingTM(\n",
    " tcp_count_dpu                   = 1,\n",
    "    acquisition_start_time_current  = 1,\n",
    "    boot_status_completed_with_errors = 0,\n",
    "    boot_status_completed_no_errors = 0,\n",
    "    boot_status_asw_load_ok         = 0,\n",
    "    boot_status_system_memory_test_ok = 0,\n",
    "    boot_software_version_major     = 1,\n",
    "    boot_software_version_minor     = 1,\n",
    "    app_software_version_major      = 1,\n",
    "    app_software_version_minor      = 1,\n",
    "    app_software_version_patch      = 1\n",
    ")"
   ]
  },
  {
   "cell_type": "code",
   "execution_count": 9,
   "metadata": {
    "collapsed": false
   },
   "outputs": [
    {
     "name": "stdout",
     "output_type": "stream",
     "text": [
      "MXGSStartupHousekeepingTM object\n"
     ]
    }
   ],
   "source": [
    "print (q)"
   ]
  },
  {
   "cell_type": "code",
   "execution_count": 13,
   "metadata": {
    "collapsed": false
   },
   "outputs": [],
   "source": [
    "mytgfobs=MXGSTGFObservation(\n",
    "    observation_id                  =7001,\n",
    "    utc_year                        =2016,\n",
    "    utc_seconds                     =111,\n",
    "    utc_msec                        =1100,\n",
    "    tcp_count_dhpu                  =8, \n",
    "    tcp_count_dpu                   =8, \n",
    "    dpu_count                       =8, \n",
    "    dpu_count_prereset              =8, \n",
    "    dau_bgo_1_int_tmon_chan1        =8, \n",
    "    dau_bgo_1_int_tmon_chan2        =8, \n",
    "    dau_bgo_1_int_tmon_chan3        =8, \n",
    "    dau_bgo_1_int_tmon_chan4        =8, \n",
    "    dau_bgo_2_int_tmon_chan1        =8, \n",
    "    dau_bgo_2_int_tmon_chan2        =8, \n",
    "    dau_bgo_2_int_tmon_chan3        =8, \n",
    "    dau_bgo_2_int_tmon_chan4        =8, \n",
    "    dau_bgo_3_int_tmon_chan1        =8, \n",
    "    dau_bgo_3_int_tmon_chan2        =8, \n",
    "    dau_bgo_3_int_tmon_chan3        =8, \n",
    "    dau_bgo_3_int_tmon_chan4        =8, \n",
    "    dau_bgo_4_int_tmon_chan1        =8, \n",
    "    dau_bgo_4_int_tmon_chan2        =8, \n",
    "    dau_bgo_4_int_tmon_chan3        =8, \n",
    "    dau_bgo_4_int_tmon_chan4        =8, \n",
    "    led_short_win_lr_pulse_height   =8, \n",
    "    led_short_win_upr_pulse_height  =8, \n",
    "    led_long_win_lr_pulse_height    =8, \n",
    "    led_long_win_upr_pulse_height   =8, \n",
    "    hed_short_win_lr_pulse_height   =8, \n",
    "    hed_short_win_upr_pulse_height  =8, \n",
    "    hed_long_win_lr_pulse_height    =8, \n",
    "    hed_long_win_upr_pulse_height   =8, \n",
    "    led_short_win_anticoin_time     =8, \n",
    "    led_long_win_anticoin_time      =8, \n",
    "    hed_short_win_anticoin_time     =8, \n",
    "    hed_long_win_anticoin_time      =8, \n",
    "    led_short_win_flag1             =1,\n",
    "    led_short_win_flag2             =1,\n",
    "    led_short_win_flag3             =1,\n",
    "    led_long_win_flag               =1,\n",
    "    hed_short_win_flag1             =1,\n",
    "    hed_short_win_flag2             =1,\n",
    "    hed_short_win_flag3             =1,\n",
    "    hed_long_win_flag               =1,\n",
    "    trig_mmia_enabled               =1,\n",
    "    trig_mmia_recd                  =1,\n",
    "    led_short_win_dur_1             =8, \n",
    "    led_short_win_dur_2             =8, \n",
    "    led_short_win_dur_3             =8, \n",
    "    led_long_win_dur                =8, \n",
    "    hed_short_win_dur_1             =8, \n",
    "    hed_short_win_dur_2             =8, \n",
    "    hed_short_win_dur_3             =8, \n",
    "    hed_long_win_dur                =8, \n",
    "    led_short_win_thresh_1          =8, \n",
    "    led_short_win_thresh_2          =8, \n",
    "    led_short_win_thresh_3          =8, \n",
    "    led_long_win_thresh             =8, \n",
    "    hed_short_win_thresh_1          =8, \n",
    "    hed_short_win_thresh_2          =8, \n",
    "    hed_short_win_thresh_3          =8, \n",
    "    hed_long_win_thresh             =8, \n",
    "    mxgs_trig_count                 =2e32,\n",
    "    mxgs_trig_tcp_count             =8, \n",
    "    mxgs_trig_dpu_count             =8, \n",
    "    num_counts                      =8, \n",
    "    detector_counts                 ='mydata.cdf'  \n",
    " )"
   ]
  },
  {
   "cell_type": "code",
   "execution_count": null,
   "metadata": {
    "collapsed": true
   },
   "outputs": [],
   "source": []
  }
 ],
 "metadata": {
  "kernelspec": {
   "display_name": "Python 3",
   "language": "python",
   "name": "python3"
  },
  "language_info": {
   "codemirror_mode": {
    "name": "ipython",
    "version": 3
   },
   "file_extension": ".py",
   "mimetype": "text/x-python",
   "name": "python",
   "nbconvert_exporter": "python",
   "pygments_lexer": "ipython3",
   "version": "3.4.4"
  }
 },
 "nbformat": 4,
 "nbformat_minor": 0
}
