{
 "cells": [
  {
   "cell_type": "code",
   "execution_count": 1,
   "metadata": {
    "collapsed": false
   },
   "outputs": [],
   "source": [
    "#!/usr/bin/env python\n",
    "\n",
    "\"\"\"MXGSTGF_BackgroundObservation_test_Data_read_into_db.py: read raw data in database\"\"\"\n",
    "\n",
    "\n",
    "__author__ \t\t= \"Gareth Murphy\"\n",
    "__copyright__ \t= \"Copyright 2016, ASDC, DTU Space\"\n",
    "__credits__ \t= [\"spacepy, bitstring, textwrap, numpy\"]\n",
    "__license__ \t= \"XXX\"\n",
    "__version__ \t= \"0.0.1\"\n",
    "__maintainer__ \t= \"Gareth Murphy\"\n",
    "__email__ \t\t= \"gmurphy@space.dtu.dk\"\n",
    "__status__ \t\t= \"Working version, finds and reads data correctly \"\n",
    "\n",
    "import os, sys\n",
    "\n",
    "\n",
    "home=\"/Users/garmu/Dropbox/\"\n",
    "proj_path = home+\"/asdc/web/\"\n",
    "\n",
    "proj_path = home+\"/myenv/mysite/\"\n",
    "# This is so Django knows where to find stuff.\n",
    "os.environ.setdefault(\"DJANGO_SETTINGS_MODULE\", \"mysite.settings\")\n",
    "sys.path.append(proj_path)\n",
    "\n",
    "# This is so my local_settings.py gets loaded.\n",
    "os.chdir(proj_path)\n",
    "\n",
    "# This is so models get loaded.\n",
    "from django.core.wsgi import get_wsgi_application\n",
    "application = get_wsgi_application()\n",
    "\n",
    "\n",
    "from asim.models import * \n",
    "    "
   ]
  },
  {
   "cell_type": "code",
   "execution_count": 2,
   "metadata": {
    "collapsed": false
   },
   "outputs": [
    {
     "name": "stdout",
     "output_type": "stream",
     "text": [
      "0006\n",
      "0008\n",
      "000a\n",
      "000d\n",
      "000f\n",
      "0016\n",
      "0019\n",
      "001c\n",
      "001f\n",
      "0021\n",
      "0025\n",
      "0028\n",
      "002b\n",
      "002d\n",
      "0030\n"
     ]
    }
   ],
   "source": [
    "mylist=['06' ,'08' ,'0a' ,'0d' ,'0f' ,'12' ,'16' ,'19' ,'1c' ,'1f' ,'21' ,'25' ,'28' ,'2b' ,'2d' ,'30' ,'34']\n",
    "mylist=['06']\n",
    "mylist=['06' ,'08' ,'0a' ,'0d' ,'0f' ,'16' ,'19' ,'1c' ,'1f' ,'21' ,'25' ,'28' ,'2b' ,'2d' ,'30']\n",
    "\n",
    "for tag in mylist:\n",
    "\n",
    "    fname='PFM_20160513_0912_raw.txt'\n",
    "\n",
    "    path='/Users/garmu/MXGS_PFM_data/PFM_20160513_0912/Section_5_3/raw/'\n",
    "\n",
    "\n",
    "    #fname='PFM_20160513_0912_raw.txt'\n",
    "    i=0\n",
    "\n",
    "    import re\n",
    "\n",
    "\n",
    "    MXGS = '80'\n",
    "    GROUND = '92'\n",
    "    SCIENCE_DATA = '02'\n",
    "    INITIAL_TGF_TM ='a0'\n",
    "    CONTINU_TGF_TM ='a1'\n",
    "    INITIAL_BACKGR_TM ='a2'\n",
    "    CONTINU_BACKGR_TM ='a3'\n",
    "    INITIAL_PULSE_TM ='a4'\n",
    "    CONTINU_PULSE_TM ='a5'\n",
    "    INITIAL_SAMP_TM ='a6'\n",
    "    CONTINU_SAMP_TM ='a7'\n",
    "    INITIAL_AUR_TM ='a8'\n",
    "    CONTINU_AUR_TM ='a9'\n",
    "\n",
    "    regex = re.compile(MXGS+GROUND+SCIENCE_DATA+'a[23]....00'+tag)\n",
    "\n",
    "\n",
    "\n",
    "    datalist=[]\n",
    "\n",
    "    masterdata=[]\n",
    "    total=0\n",
    "    import textwrap\n",
    "\n",
    "    with open (path+fname) as f:    \n",
    "        for line in f:\n",
    "            if re.match(regex,line):\n",
    "                datalist.append(line)\n",
    "                a=datalist[i]\n",
    "                dl=textwrap.wrap(a, 4)\n",
    "\n",
    "                from bitstring import Bits\n",
    "\n",
    "                f = open('file'+str(i).zfill(3)+'.ccsds', 'wb')\n",
    "                Bits('0x'+line).tofile(f)\n",
    "                f.close()\n",
    "\n",
    "\n",
    "                total =  total + hex2int (a[8:12])\n",
    "                if ( i > 0) :\n",
    "                    #print (dl[0:7])\n",
    "                # delete first 14 bytes/28 hex (Continuation Header)\n",
    "                # delete first 16 bytes/ 32 hex/ 8 groups of 4 hex characters\n",
    "                    dl=dl[8:]\n",
    "                i=i+1\n",
    "                masterdata.extend(dl)\n",
    "\n",
    "    \n",
    "                \n",
    "    x=MXGSBackgroundObservation()\n",
    "    background_1second=x.hexstring_to_db(masterdata)\n",
    "    print x.observation_id\n",
    "    x.save()\n",
    "    qq=background_1second\n",
    "    for i in range(1,60):\n",
    "    \n",
    "        y=MXGSBackgroundObservation1Second()\n",
    "        qq=y.hexstring_to_db(x,qq)\n",
    "        y.save()\n",
    "        #pp.pprint(stuff)\n"
   ]
  },
  {
   "cell_type": "code",
   "execution_count": 3,
   "metadata": {
    "collapsed": false
   },
   "outputs": [],
   "source": [
    "import pprint\n",
    "stuff = y.__dict__\n",
    "pp = pprint.PrettyPrinter(indent=4)"
   ]
  },
  {
   "cell_type": "code",
   "execution_count": null,
   "metadata": {
    "collapsed": true
   },
   "outputs": [],
   "source": []
  }
 ],
 "metadata": {
  "kernelspec": {
   "display_name": "Python 2",
   "language": "python",
   "name": "python2"
  },
  "language_info": {
   "codemirror_mode": {
    "name": "ipython",
    "version": 2
   },
   "file_extension": ".py",
   "mimetype": "text/x-python",
   "name": "python",
   "nbconvert_exporter": "python",
   "pygments_lexer": "ipython2",
   "version": "2.7.12"
  }
 },
 "nbformat": 4,
 "nbformat_minor": 0
}
