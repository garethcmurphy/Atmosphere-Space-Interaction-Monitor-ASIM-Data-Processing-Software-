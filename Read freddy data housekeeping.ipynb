{
 "cells": [
  {
   "cell_type": "code",
   "execution_count": 3,
   "metadata": {
    "collapsed": false
   },
   "outputs": [
    {
     "name": "stdout",
     "output_type": "stream",
     "text": [
      "Test 1\n"
     ]
    }
   ],
   "source": [
    "#!/usr/bin/env python\n",
    "\n",
    "\"\"\"MXGSAuroralCaptureObservation_test_data_read_into_db-class-based.py: read raw data in database\"\"\"\n",
    "\n",
    "\n",
    "__author__ \t\t= \"Gareth Murphy\"\n",
    "__copyright__ \t= \"Copyright 2016, ASDC, DTU Space\"\n",
    "__credits__ \t= [\"spacepy, bitstring, textwrap, numpy\"]\n",
    "__license__ \t= \"XXX\"\n",
    "__version__ \t= \"0.0.1\"\n",
    "__maintainer__ \t= \"Gareth Murphy\"\n",
    "__email__ \t\t= \"gmurphy@space.dtu.dk\"\n",
    "__status__ \t\t= \"Working version, finds and reads data correctly \"\n",
    "\n",
    "import os, sys\n",
    "\n",
    "\n",
    "home=\"/Users/garmu/Dropbox/\"\n",
    "proj_path = home+\"/asdc/web/\"\n",
    "\n",
    "proj_path = home+\"/myenv/mysite/\"\n",
    "# This is so Django knows where to find stuff.\n",
    "os.environ.setdefault(\"DJANGO_SETTINGS_MODULE\", \"mysite.settings\")\n",
    "sys.path.append(proj_path)\n",
    "\n",
    "# This is so my local_settings.py gets loaded.\n",
    "os.chdir(proj_path)\n",
    "\n",
    "# This is so models get loaded.\n",
    "from django.core.wsgi import get_wsgi_application\n",
    "application = get_wsgi_application()\n",
    "\n",
    "\n",
    "from asim.models import * \n",
    "    \n",
    "print \"Test 1\"\n",
    "\n",
    "import bitstring\n",
    "s = bitstring.ConstBitStream(filename='/Users/garmu/Desktop/ASIM_2101_full/10')\n",
    "\n",
    "\n"
   ]
  },
  {
   "cell_type": "code",
   "execution_count": 4,
   "metadata": {
    "collapsed": false
   },
   "outputs": [
    {
     "name": "stdout",
     "output_type": "stream",
     "text": [
      "0x30303a30\n"
     ]
    }
   ],
   "source": [
    "start_code = s.read(32).hex\n",
    "print start_code"
   ]
  },
  {
   "cell_type": "code",
   "execution_count": null,
   "metadata": {
    "collapsed": true
   },
   "outputs": [],
   "source": []
  }
 ],
 "metadata": {
  "kernelspec": {
   "display_name": "Python 2",
   "language": "python",
   "name": "python2"
  },
  "language_info": {
   "codemirror_mode": {
    "name": "ipython",
    "version": 2
   },
   "file_extension": ".py",
   "mimetype": "text/x-python",
   "name": "python",
   "nbconvert_exporter": "python",
   "pygments_lexer": "ipython2",
   "version": "2.7.12"
  }
 },
 "nbformat": 4,
 "nbformat_minor": 1
}
