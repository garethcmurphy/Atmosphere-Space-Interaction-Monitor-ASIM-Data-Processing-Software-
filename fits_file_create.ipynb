{
 "cells": [
  {
   "cell_type": "code",
   "execution_count": 1,
   "metadata": {
    "collapsed": true
   },
   "outputs": [],
   "source": [
    "from astropy.io import fits\n",
    "import numpy as np\n",
    "n = np.arange(100.0) # a simple sequence of floats from 0.0 to 99.9\n",
    "#Next, we create a PrimaryHDU object to encapsulate the data:\n",
    "\n",
    "\n",
    "hdu = fits.PrimaryHDU(n)\n",
    "#We then create a HDUList to contain the newly created primary HDU, and write to a new file:\n",
    "\n",
    "hdulist = fits.HDUList([hdu])\n",
    "hdulist.writeto('new.fits')"
   ]
  },
  {
   "cell_type": "code",
   "execution_count": null,
   "metadata": {
    "collapsed": true
   },
   "outputs": [],
   "source": []
  }
 ],
 "metadata": {
  "kernelspec": {
   "display_name": "Python 2",
   "language": "python",
   "name": "python2"
  },
  "language_info": {
   "codemirror_mode": {
    "name": "ipython",
    "version": 2
   },
   "file_extension": ".py",
   "mimetype": "text/x-python",
   "name": "python",
   "nbconvert_exporter": "python",
   "pygments_lexer": "ipython2",
   "version": "2.7.12"
  }
 },
 "nbformat": 4,
 "nbformat_minor": 0
}
