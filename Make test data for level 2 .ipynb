{
 "cells": [
  {
   "cell_type": "code",
   "execution_count": 1,
   "metadata": {
    "collapsed": false
   },
   "outputs": [],
   "source": [
    "import os, sys\n",
    "\n",
    "    home=\"/Users/garmu/Dropbox/\"\n",
    "    proj_path = home+\"/asdc/web/python_template_site\"\n",
    "#proj_path = home+\"/myenv/mysite\"\n",
    "# This is so Django knows where to find stuff.\n",
    "os.environ.setdefault(\"DJANGO_SETTINGS_MODULE\", \"mysite.settings\")\n",
    "sys.path.append(proj_path)\n",
    "\n",
    "# This is so my local_settings.py gets loaded.\n",
    "os.chdir(proj_path)\n",
    "\n",
    "# This is so models get loaded.\n",
    "from django.core.wsgi import get_wsgi_application\n",
    "application = get_wsgi_application()\n",
    "\n",
    "\n",
    "from asim.models import * \n",
    "\n",
    "\n"
   ]
  },
  {
   "cell_type": "code",
   "execution_count": 4,
   "metadata": {
    "collapsed": false
   },
   "outputs": [],
   "source": [
    "tgflevel2=MXGSTGFObservationLevel2(\n",
    "    observation_id                  =1,\n",
    "    utc_year                        =1970,\n",
    "    utc_seconds                     =1,\n",
    "    utc_msec                        =1,\n",
    "    tcp_count_dhpu                  =71,\n",
    "    tcp_count_dpu                   =71,\n",
    "    dpu_count                       =71,\n",
    "    dpu_count_prereset              =71,\n",
    "    dau_bgo_1_int_tmon_chan1        =71,\n",
    "    dau_bgo_1_int_tmon_chan2        =71,\n",
    "    dau_bgo_1_int_tmon_chan3        =71,\n",
    "    dau_bgo_1_int_tmon_chan4        =71,\n",
    "    dau_bgo_2_int_tmon_chan1        =71,\n",
    "    dau_bgo_2_int_tmon_chan2        =71,\n",
    "    dau_bgo_2_int_tmon_chan3        =71,\n",
    "    dau_bgo_2_int_tmon_chan4        =71,\n",
    "    dau_bgo_3_int_tmon_chan1        =71,\n",
    "    dau_bgo_3_int_tmon_chan2        =71,\n",
    "    dau_bgo_3_int_tmon_chan3        =71,\n",
    "    dau_bgo_3_int_tmon_chan4        =71,\n",
    "    dau_bgo_4_int_tmon_chan1        =71,\n",
    "    dau_bgo_4_int_tmon_chan2        =71,\n",
    "    dau_bgo_4_int_tmon_chan3        =71,\n",
    "    dau_bgo_4_int_tmon_chan4        =71,\n",
    "    led_short_win_lr_pulse_height   =71,\n",
    "    led_short_win_upr_pulse_height  =71,\n",
    "    led_long_win_lr_pulse_height    =71,\n",
    "    led_long_win_upr_pulse_height   =71,\n",
    "    hed_short_win_lr_pulse_height   =71,\n",
    "    hed_short_win_upr_pulse_height  =71,\n",
    "    hed_long_win_lr_pulse_height    =71,\n",
    "    hed_long_win_upr_pulse_height   =71,\n",
    "    led_short_win_anticoin_time     =71,\n",
    "    led_long_win_anticoin_time      =71,\n",
    "    hed_short_win_anticoin_time     =71,\n",
    "    hed_long_win_anticoin_time      =71,\n",
    "    led_short_win_flag1             =1,\n",
    "    led_short_win_flag2             =1,\n",
    "    led_short_win_flag3             =1,\n",
    "    led_long_win_flag               =1,\n",
    "    hed_short_win_flag1             =1,\n",
    "    hed_short_win_flag2             =1,\n",
    "    hed_short_win_flag3             =1,\n",
    "    hed_long_win_flag               =1,\n",
    "    trig_mmia_enabled               =1,\n",
    "    trig_mmia_recd                  =1,\n",
    "    led_short_win_dur_1             =71,\n",
    "    led_short_win_dur_2             =71,\n",
    "    led_short_win_dur_3             =71,\n",
    "    led_long_win_dur                =71,\n",
    "    hed_short_win_dur_1             =71,\n",
    "    hed_short_win_dur_2             =71,\n",
    "    hed_short_win_dur_3             =71,\n",
    "    hed_long_win_dur                =71,\n",
    "    led_short_win_thresh_1          =71,\n",
    "    led_short_win_thresh_2          =71,\n",
    "    led_short_win_thresh_3          =71,\n",
    "    led_long_win_thresh             =71,\n",
    "    hed_short_win_thresh_1          =71,\n",
    "    hed_short_win_thresh_2          =71,\n",
    "    hed_short_win_thresh_3          =71,\n",
    "    hed_long_win_thresh             =71,\n",
    "    mxgs_trig_count                 =71,\n",
    "    mxgs_trig_tcp_count             =71,\n",
    "    mxgs_trig_dpu_count             =71,\n",
    "    num_counts                      =71,\n",
    "    latitude                        =55.5,\n",
    "    longitude                       =12.2,\n",
    "    detector_event_pattern          ='assets/new.png',\n",
    "    detector_counts_spectrum        ='assets/new.png',\n",
    "    detector_counts_lightcurve      ='assets/new.png',\n",
    "    image_nadir                     ='assets/new.png'\n",
    "    )\n"
   ]
  },
  {
   "cell_type": "code",
   "execution_count": null,
   "metadata": {
    "collapsed": true
   },
   "outputs": [],
   "source": []
  }
 ],
 "metadata": {
  "kernelspec": {
   "display_name": "Python 2",
   "language": "python",
   "name": "python2"
  },
  "language_info": {
   "codemirror_mode": {
    "name": "ipython",
    "version": 2
   },
   "file_extension": ".py",
   "mimetype": "text/x-python",
   "name": "python",
   "nbconvert_exporter": "python",
   "pygments_lexer": "ipython2",
   "version": "2.7.11"
  }
 },
 "nbformat": 4,
 "nbformat_minor": 0
}
