{
 "cells": [
  {
   "cell_type": "code",
   "execution_count": 9,
   "metadata": {
    "collapsed": false
   },
   "outputs": [],
   "source": [
    "import requests\n",
    "from bs4 import BeautifulSoup\n",
    "\n",
    "\n",
    "def scrapetle():\n",
    "    url = 'http://celestrak.com/NORAD/elements/stations.txt'\n",
    "    response = requests.get(url)\n",
    "    html = response.content\n",
    "    soup = BeautifulSoup(html, \"lxml\")\n",
    "    mytle=(soup.text[:168])\n",
    "    lines = mytle.splitlines()\n",
    "    return (lines)\n",
    "\n",
    "def tletodict(lines):\n",
    "    l1=lines[1].split()\n",
    "    l2=lines[2].split()\n",
    "\n",
    "    satellite_number=l1[1] \n",
    "\n",
    "    isstle={}\n",
    "\n",
    "    tempvar =l1[3]\n",
    "    # getting keplerian elements from first line of TLE\n",
    "    isstle['satellite_number'] =l1[1]\n",
    "\n",
    "    isstle['epoch_year'] =int('20'+tempvar[0:2])\n",
    "    isstle['epoch']=float(tempvar[2:12])\n",
    "    isstle['first_time_deriv_mean_motion']=float('0'+l1[4])\n",
    "    tempvar=l1[5]\n",
    "    isstle['second_time_deriv_mean_motion']=float('0.'+tempvar[0:5])\n",
    "    tempvar=l1[6]\n",
    "    isstle['bstar_drag']    =float('0.'+tempvar[0:5])\n",
    "    zeronum=l1[7]\n",
    "    tempvar=l1[8]\n",
    "    isstle['element_Set_no']=int(tempvar[0:3])\n",
    "    # getting keplerian elements from second line of TLE\n",
    "    isstle['inclination']    =float(l2[2])\n",
    "    isstle['right_ascension_ascending_node']  =  float(l2[3])\n",
    "    # todo: fix for when the values are negative with an assumed decimal point\n",
    "    # todo: the appended -0\n",
    "    isstle['eccentricity']    = float(\"0.\"+l2[4])\n",
    "    isstle['argument_perigee']    =float(l2[5])\n",
    "    isstle['mean_anomaly']    =float(l2[6])\n",
    "    tempvar=lines[2]\n",
    "    tempvar=tempvar[53:69]\n",
    "    isstle['mean_motion']   =float(tempvar[0:11])\n",
    "    print (tempvar)\n",
    "    isstle['revolution_number_at_epoch'] =int(tempvar[11:15])\n",
    "    return isstle\n"
   ]
  },
  {
   "cell_type": "code",
   "execution_count": 10,
   "metadata": {
    "collapsed": false
   },
   "outputs": [
    {
     "name": "stdout",
     "output_type": "stream",
     "text": [
      "1 25544U 98067A   16159.20072255  .00002935  00000-0  50420-4 0  9999\n",
      "2 25544  51.6430 107.8400 0001564 148.1423 349.8248 15.54761605  3438\n",
      "5.54761605  3438\n",
      "{   'argument_perigee': 148.1423,\n",
      "    'bstar_drag': 0.5042,\n",
      "    'eccentricity': 0.0001564,\n",
      "    'element_Set_no': 999,\n",
      "    'epoch': 159.200722,\n",
      "    'epoch_year': 2016,\n",
      "    'first_time_deriv_mean_motion': 2.935e-05,\n",
      "    'inclination': 51.643,\n",
      "    'mean_anomaly': 349.8248,\n",
      "    'mean_motion': 5.54761605,\n",
      "    'revolution_number_at_epoch': 343,\n",
      "    'right_ascension_ascending_node': 107.84,\n",
      "    'satellite_number': u'25544U',\n",
      "    'second_time_deriv_mean_motion': 0.0}\n"
     ]
    }
   ],
   "source": [
    "lines=scrapetle()\n",
    "\n",
    "print (lines[1])\n",
    "print (lines[2])\n",
    "\n",
    "\n",
    "isstle= tletodict(lines)\n",
    "\n",
    "\n",
    "import pprint\n",
    "\n",
    "pp = pprint.PrettyPrinter(indent=4)\n",
    "\n",
    "pp.pprint(isstle)"
   ]
  },
  {
   "cell_type": "code",
   "execution_count": 11,
   "metadata": {
    "collapsed": false
   },
   "outputs": [
    {
     "name": "stdout",
     "output_type": "stream",
     "text": [
      "5.54761605  3438\n"
     ]
    }
   ],
   "source": [
    "def AddTLEToDB():\n",
    "    lines=scrapetle()\n",
    "\n",
    "    isstle= tletodict(lines)\n",
    "\n",
    "    import psycopg2\n",
    "    import sys\n",
    "    import numpy as np\n",
    "\n",
    "\n",
    "    con = None\n",
    "\n",
    "    try:\n",
    "\n",
    "        con = psycopg2.connect(host='localhost', database='gld', user='asdcadmin', password='ASIMrocks') \n",
    "        cur = con.cursor()\n",
    "        cur.execute(\"SELECT * FROM isstle LIMIT 0\")\n",
    "\n",
    "        cur.execute(\"SET TIME ZONE 'UTC';\")  # UTC \n",
    "        #cur.execute(\"INSERT INTO isstle ( satellite_number,       epoch_year  ,epoch,                    first_time_deriv_mean_motion   ,second_time_deriv_mean_motion,bstar_drag    ,element_Set_no   ,inclination    ,right_ascension_ascending_node    ,eccentricity    ,argument_perigee    ,mean_anomaly    ,mean_motion   ,revolution_number_at_epoch    )         VALUES (%s, %s, %s, %s, %s, %s,%s, %s, %s,%s, %s, %s,%s, %s  )\",          ( isstle['satellite_number']   ,  isstle['epoch_year']  ,isstle['epoch'], isstle['first_time_deriv_mean_motion']   ,isstle['second_time_deriv_mean_motion'],isstle['bstar_drag']    ,isstle['element_Set_no']   ,isstle['inclination']    ,isstle['right_ascension_ascending_node']    ,isstle['eccentricity']    ,isstle['argument_perigee']    ,isstle['mean_anomaly']    ,isstle['mean_motion']   ,isstle['revolution_number_at_epoch']           ))       \n",
    "        #cur.execute(\"INSERT INTO isstle ( satellite_number,       epoch_year  ,epoch,                    first_time_deriv_mean_motion   ,second_time_deriv_mean_motion,bstar_drag    ,element_Set_no   ,inclination    ,right_ascension_ascending_node    ,eccentricity    ,argument_perigee    ,mean_anomaly    ,mean_motion   ,revolution_number_at_epoch    )         VALUES (%s, %s, %s, %s, %s, %s,%s, %s, %s,%s, %s, %s,%s, %s  )\",          (             1,1,1,1,1,1,1,1,1,1,1,1,1,1))       \n",
    "        SQL = \"INSERT INTO isstle (satellite_number, epoch_year, epoch,   first_time_deriv_mean_motion, second_time_deriv_mean_motion, bstar_drag,   element_Set_no, inclination,right_ascension_ascending_node,  eccentricity,argument_perigee,mean_anomaly,  mean_motion,revolution_number_at_epoch) VALUES (%s, %s, %s,  %s, %s, %s,     %s, %s, %s,   %s, %s, %s,   %s, %s );\" # Note: no quotes\n",
    "        data = (isstle['satellite_number']   ,  isstle['epoch_year']  ,isstle['epoch'], isstle['first_time_deriv_mean_motion']   ,isstle['second_time_deriv_mean_motion'],isstle['bstar_drag']    ,isstle['element_Set_no']   ,isstle['inclination']    ,isstle['right_ascension_ascending_node']    ,isstle['eccentricity']    ,isstle['argument_perigee']    ,isstle['mean_anomaly']    ,isstle['mean_motion']   ,isstle['revolution_number_at_epoch']  )\n",
    "        cur.execute(SQL, data) # Note: no % operator\n",
    "        \n",
    "        #cur.execute(\"INSERT INTO isstle (satellite_number, epoch_year) VALUES (200,200);\")\n",
    "        \n",
    "\n",
    "        cols = isstle.keys()\n",
    "        vals = [isstle[x] for x in cols]\n",
    "        vals_str_list = [\"%s\"] * len(vals)\n",
    "        vals_str = \", \".join(vals_str_list)\n",
    "\n",
    "        #cur.execute(\"INSERT INTO isstle ({cols}) VALUES ({vals_str})\".format( cols = cols, vals_str = vals_str), vals)\n",
    "\n",
    "\n",
    "        con.commit()\n",
    "    except :\n",
    "        print ('Error could not connect to database'     )\n",
    "        #sys.exit(1)\n",
    "\n",
    "\n",
    "    finally:\n",
    "\n",
    "        if con:\n",
    "            con.close()   \n",
    "    \n",
    "AddTLEToDB()"
   ]
  },
  {
   "cell_type": "code",
   "execution_count": null,
   "metadata": {
    "collapsed": true
   },
   "outputs": [],
   "source": []
  }
 ],
 "metadata": {
  "kernelspec": {
   "display_name": "Python 2",
   "language": "python",
   "name": "python2"
  },
  "language_info": {
   "codemirror_mode": {
    "name": "ipython",
    "version": 2
   },
   "file_extension": ".py",
   "mimetype": "text/x-python",
   "name": "python",
   "nbconvert_exporter": "python",
   "pygments_lexer": "ipython2",
   "version": "2.7.11"
  }
 },
 "nbformat": 4,
 "nbformat_minor": 0
}
