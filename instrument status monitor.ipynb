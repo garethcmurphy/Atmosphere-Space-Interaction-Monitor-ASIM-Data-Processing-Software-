{
 "cells": [
  {
   "cell_type": "code",
   "execution_count": 4,
   "metadata": {
    "collapsed": false
   },
   "outputs": [
    {
     "name": "stdout",
     "output_type": "stream",
     "text": [
      "6\n"
     ]
    }
   ],
   "source": [
    "import numpy as np\n",
    "import matplotlib\n",
    "import matplotlib.pyplot as plt\n",
    "%matplotlib inline\n",
    "from matplotlib.figure import Figure\n",
    "matplotlib.use('Agg')\n",
    "import six\n",
    "from matplotlib.backends.backend_agg import FigureCanvasAgg as FigureCanvas\n",
    "import datetime\n",
    "import matplotlib\n",
    "from matplotlib.dates import DayLocator, HourLocator, DateFormatter, drange\n",
    "\n",
    "\n",
    "def shift(l, n):\n",
    "    return l[n:] + l[:n]\n",
    "\n",
    "fig = Figure()\n",
    "canvas = FigureCanvas(fig)\n",
    "ax = fig.add_subplot(311)\n",
    "\n",
    "size = 22\n",
    "\n",
    "time = np.arange(0, size, 1)\n",
    "\n",
    "dau_temp = 50 + np.random.rand() + np.random.rand(size)\n",
    "date1 = datetime.datetime(2016, 11, 15)\n",
    "delta = datetime.timedelta(hours=6)\n",
    "date2 = date1 + (size) * delta\n",
    "dates = drange(date1, date2, delta)\n",
    "\n",
    "# ax.step(dates, dau_temp)\n",
    "\n",
    "\n",
    "\n",
    "\n",
    "ave_test_dataa = [12, 50, 7]\n",
    "ave_test_data=ave_test_dataa+ave_test_dataa\n",
    "bgolabels = ['BGO4 ANALOG VOLTAGE', 'BGO TEMP1 TEMPERATURE', 'BGO1 HV SUPPLY CURRENT ']\n",
    "cztlabels = ['CZT4 ANALOG VOLTAGE', 'CZT TEMP1 TEMPERATURE', 'CZT1 HV SUPPLY CURRENT ']\n",
    "labels=bgolabels+cztlabels\n",
    "print len(labels)\n",
    "colorsa = ['r-', 'b-', 'g-']\n",
    "colors = colorsa+colorsa\n",
    "colors2 = shift(colors, 1)\n",
    "numplots=6\n",
    "for i in range(0, numplots):\n",
    "    dau_temp = ave_test_data[i] + np.random.rand(size)\n",
    "    dau_temp2 = ave_test_data[i] + np.random.rand(size)\n",
    "    ax = fig.add_subplot(numplots, 1, i + 1)\n",
    "    ax.grid(True)\n",
    "    ax.set_ylabel(labels[i], fontsize=6)\n",
    "    ax.step(dates, dau_temp, colors[i])\n",
    "    #ax.step(dates, dau_temp2, colors2[i])\n",
    "    ax.set_xticklabels([])\n",
    "\n",
    "ax.set_xlabel('Days')\n",
    "ax.xaxis.set_major_locator(DayLocator())\n",
    "ax.xaxis.set_minor_locator(HourLocator(np.arange(0, 25, 6)))\n",
    "ax.xaxis.set_major_formatter(DateFormatter('%Y-%m-%d'))\n",
    "ax.fmt_xdata = DateFormatter('%Y-%m-%d %H:%M:%S')\n",
    "fig.autofmt_xdate()\n",
    "\n",
    "\n",
    "\n",
    "\n",
    "\n",
    "ax.grid(True)\n",
    "ax.set_xlabel('Days')\n",
    "ax.set_ylabel('DAU temperature')\n",
    "canvas.print_figure('test')\n",
    "\n",
    "fig.tight_layout()\n",
    "# plot some data\n",
    "tmp = six.StringIO()\n",
    "fig.savefig(tmp, format='svg')  "
   ]
  },
  {
   "cell_type": "markdown",
   "metadata": {},
   "source": [
    "# plt.show()"
   ]
  },
  {
   "cell_type": "code",
   "execution_count": null,
   "metadata": {
    "collapsed": true
   },
   "outputs": [],
   "source": []
  },
  {
   "cell_type": "code",
   "execution_count": null,
   "metadata": {
    "collapsed": true
   },
   "outputs": [],
   "source": []
  }
 ],
 "metadata": {
  "kernelspec": {
   "display_name": "Python 2",
   "language": "python",
   "name": "python2"
  },
  "language_info": {
   "codemirror_mode": {
    "name": "ipython",
    "version": 2
   },
   "file_extension": ".py",
   "mimetype": "text/x-python",
   "name": "python",
   "nbconvert_exporter": "python",
   "pygments_lexer": "ipython2",
   "version": "2.7.12"
  }
 },
 "nbformat": 4,
 "nbformat_minor": 1
}
