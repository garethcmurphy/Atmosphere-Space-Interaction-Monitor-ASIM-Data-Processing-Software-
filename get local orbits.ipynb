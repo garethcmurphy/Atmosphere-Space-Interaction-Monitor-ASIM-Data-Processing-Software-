{
 "cells": [
  {
   "cell_type": "code",
   "execution_count": 32,
   "metadata": {
    "collapsed": true
   },
   "outputs": [],
   "source": [
    "\n",
    "import numpy as np\n",
    "radtodeg=180.0/np.pi\n",
    "degtorad=np.pi/180.0\n",
    "\n",
    "def subtractdistlon(lat, lon, dist):\n",
    "    onedegreeinkm=111.320*np.cos(lat)\n",
    "    ndegs=dist/onedegreeinkm\n",
    "    print (ndegs)\n",
    "    nrads=ndegs*degtorad\n",
    "    return lon-nrads\n",
    "\n",
    "\n",
    "import requests\n",
    "from bs4 import BeautifulSoup\n",
    "\n",
    "\n",
    "def scrapetle():\n",
    "    url = 'http://celestrak.com/NORAD/elements/stations.txt'\n",
    "    response = requests.get(url)\n",
    "    html = response.content\n",
    "    soup = BeautifulSoup(html, \"lxml\")\n",
    "    mytle=(soup.text[:168])\n",
    "    lines = mytle.splitlines()\n",
    "    return (lines)\n",
    "\n",
    "import math\n",
    "import time\n",
    "from datetime import datetime, timedelta\n",
    "import ephem\n",
    "\n",
    "\n"
   ]
  },
  {
   "cell_type": "code",
   "execution_count": 33,
   "metadata": {
    "collapsed": false
   },
   "outputs": [
    {
     "name": "stdout",
     "output_type": "stream",
     "text": [
      "5.02922617253\n",
      "0.470773827474\n"
     ]
    }
   ],
   "source": [
    "\n",
    "cadlon=5.5*degtorad\n",
    "cadlat=44.4*degtorad\n",
    "\n",
    "asimdistkm=400\n",
    "\n",
    "lonrad=subtractdistlon(cadlat, cadlon, asimdistkm)\n",
    "\n",
    "print  (lonrad*radtodeg)"
   ]
  },
  {
   "cell_type": "code",
   "execution_count": 43,
   "metadata": {
    "collapsed": false
   },
   "outputs": [
    {
     "name": "stdout",
     "output_type": "stream",
     "text": [
      "Current ISS lat  -50:11:32.3 lon -19:02:08.6\n",
      "Ang Dist to ISS 19.5064854311\n",
      "Time till ISS crosses  5.03917540303\n",
      "Time till ISS crosses  0:05:02.350524\n"
     ]
    }
   ],
   "source": [
    "#calc iss pos from time.\n",
    "# calc time it cross this place, by computing angular distance and \n",
    "# assuming ~93 = 1/n_Earth_orb_24hr minutes for one earth orbit\n",
    "\n",
    "\n",
    "def getissloc(  ):\n",
    "    # Always get the latest ISS TLE data from:\n",
    "    obs = ephem.Observer() \n",
    "    obs.date = datetime.utcnow()\n",
    "    lines=scrapetle()\n",
    "    iss = ephem.readtle(lines[0], lines[1], lines[2])\n",
    "    iss.compute(obs)\n",
    "\n",
    "    return iss.sublat, iss.sublong\n",
    "\n",
    "# get iss location in rads\n",
    "# calculate the distance in rads\n",
    "\n",
    "# time is 93 minutes *distance in rads/2/np.pi\n",
    "\n",
    "\n",
    "\n",
    "lat, lon = getissloc()\n",
    "\n",
    "print (\"Current ISS lat \", lat, \"lon\", lon )\n",
    "\n",
    "print (\"Ang Dist to ISS\", (lonrad-lon) *radtodeg) \n",
    "\n",
    "orbitperiod=93\n",
    "timetocross=(lonrad-lon)/2/np.pi*93\n",
    "\n",
    "print (\"Time till ISS crosses \" , timetocross)\n",
    "\n",
    "timetocrossdelta=timedelta(minutes=timetocross)\n",
    "\n",
    "print (\"Time till ISS crosses \" , timetocrossdelta)\n",
    "\n",
    "\n"
   ]
  },
  {
   "cell_type": "code",
   "execution_count": null,
   "metadata": {
    "collapsed": true
   },
   "outputs": [],
   "source": []
  },
  {
   "cell_type": "code",
   "execution_count": null,
   "metadata": {
    "collapsed": true
   },
   "outputs": [],
   "source": []
  }
 ],
 "metadata": {
  "kernelspec": {
   "display_name": "Python 3",
   "language": "python",
   "name": "python3"
  },
  "language_info": {
   "codemirror_mode": {
    "name": "ipython",
    "version": 3
   },
   "file_extension": ".py",
   "mimetype": "text/x-python",
   "name": "python",
   "nbconvert_exporter": "python",
   "pygments_lexer": "ipython3",
   "version": "3.4.4"
  }
 },
 "nbformat": 4,
 "nbformat_minor": 0
}
