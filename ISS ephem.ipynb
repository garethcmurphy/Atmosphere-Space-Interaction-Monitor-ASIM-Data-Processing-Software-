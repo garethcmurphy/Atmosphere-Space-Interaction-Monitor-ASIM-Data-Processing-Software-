{
 "cells": [
  {
   "cell_type": "code",
   "execution_count": 1,
   "metadata": {
    "collapsed": false
   },
   "outputs": [
    {
     "name": "stdout",
     "output_type": "stream",
     "text": [
      "2016/4/8 13:11:49\n",
      "iss: altitude -62.7 deg, azimuth   0.3 deg\n",
      "2016/4/11 12:11:49\n",
      "iss: altitude -63.4 deg, azimuth   2.2 deg\n",
      "2016/4/13 21:56:49\n",
      "iss: altitude -70.6 deg, azimuth   1.1 deg\n",
      "2016/4/16 20:56:49\n",
      "iss: altitude -69.5 deg, azimuth   2.4 deg\n",
      "2016/5/1 15:56:49\n",
      "iss: altitude -61.4 deg, azimuth   2.7 deg\n",
      "2016/5/16 09:11:49\n",
      "iss: altitude -68.5 deg, azimuth   0.1 deg\n",
      "2016/5/16 22:26:49\n",
      "iss: altitude -66.8 deg, azimuth   2.6 deg\n",
      "2016/5/23 02:56:49\n",
      "iss: altitude -86.5 deg, azimuth   1.4 deg\n",
      "2016/5/29 04:11:49\n",
      "iss: altitude -68.6 deg, azimuth   2.3 deg\n",
      "2016/6/18 09:26:49\n",
      "iss: altitude -66.9 deg, azimuth   1.1 deg\n"
     ]
    }
   ],
   "source": [
    "import math\n",
    "import time\n",
    "from datetime import datetime, timedelta\n",
    "import ephem\n",
    " \n",
    "degrees_per_radian = 180.0 / math.pi\n",
    " \n",
    "home = ephem.Observer()\n",
    "home.lon = '12.7'   # +E\n",
    "home.lat = '55.49'      # +N\n",
    "home.elevation = 50 # meters\n",
    " \n",
    "# Always get the latest ISS TLE data from:\n",
    "# http://spaceflight.nasa.gov/realdata/sightings/SSapplications/Post/JavaSSOP/orbit/ISS/SVPOST.html\n",
    "iss = ephem.readtle('ISS',\n",
    "    '1 25544U 98067A   16109.22675790  .00016717  00000-0  10270-3 0  9158',\n",
    "    '2 25544  51.6408 357.1170 0001176  55.9774 304.1490 15.54190598 35659'\n",
    ")\n",
    " \n",
    "for i in range(0,7000):\n",
    "    one_hour = timedelta(hours=1)\n",
    "    min15 = timedelta(minutes=15)\n",
    "    home.date = datetime.utcnow()+i*min15\n",
    "    iss.compute(home)\n",
    "    dist=.05\n",
    "    if ( (iss.sublat < dist) and (iss.az < dist)):\n",
    "        print (home.date)\n",
    "        print('iss: altitude %4.1f deg, azimuth %5.1f deg' % (iss.alt * degrees_per_radian, iss.az * degrees_per_radian))\n",
    "    "
   ]
  },
  {
   "cell_type": "code",
   "execution_count": 2,
   "metadata": {
    "collapsed": true
   },
   "outputs": [],
   "source": [
    "from sgp4.earth_gravity import wgs72"
   ]
  },
  {
   "cell_type": "code",
   "execution_count": 5,
   "metadata": {
    "collapsed": false
   },
   "outputs": [
    {
     "name": "stdout",
     "output_type": "stream",
     "text": [
      "0\n",
      "None\n",
      "(5576.056952400577, -3999.371134576461, -1521.9571594376116)\n",
      "(4.772627303379327, 5.119817120959581, 4.275553909172121)\n"
     ]
    }
   ],
   "source": [
    "from sgp4.earth_gravity import wgs72\n",
    "from sgp4.io import twoline2rv\n",
    "\n",
    "line1 = ('1 00005U 58002B   00179.78495062  .00000023  00000-0  28098-4 0  4753')\n",
    "line2 = ('2 00005  34.2682 348.7242 1859667 331.7664  19.3264 10.82419157413667')\n",
    "\n",
    "satellite = twoline2rv(line1, line2, wgs72)\n",
    "position, velocity = satellite.propagate(  2000, 6, 29, 12, 50, 19)\n",
    "\n",
    "print(satellite.error)    # nonzero on error\n",
    "\n",
    "print(satellite.error_message)\n",
    "\n",
    "print(position)\n",
    "print(velocity)\n"
   ]
  },
  {
   "cell_type": "code",
   "execution_count": null,
   "metadata": {
    "collapsed": true
   },
   "outputs": [],
   "source": []
  }
 ],
 "metadata": {
  "kernelspec": {
   "display_name": "Python 3",
   "language": "python",
   "name": "python3"
  },
  "language_info": {
   "codemirror_mode": {
    "name": "ipython",
    "version": 3
   },
   "file_extension": ".py",
   "mimetype": "text/x-python",
   "name": "python",
   "nbconvert_exporter": "python",
   "pygments_lexer": "ipython3",
   "version": "3.4.4"
  }
 },
 "nbformat": 4,
 "nbformat_minor": 0
}
