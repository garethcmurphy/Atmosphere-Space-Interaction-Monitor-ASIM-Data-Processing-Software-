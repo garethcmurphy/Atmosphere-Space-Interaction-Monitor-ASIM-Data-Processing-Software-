{
 "cells": [
  {
   "cell_type": "code",
   "execution_count": 21,
   "metadata": {
    "collapsed": false
   },
   "outputs": [],
   "source": [
    "def scrapetle():\n",
    "    import urllib2\n",
    "\n",
    "    data = urllib2.urlopen(\"http://celestrak.com/NORAD/elements/stations.txt\").read(168) # read only 20 000 chars\n",
    "    lines = data.split(\"\\n\") # then split it into lines\n",
    "\n",
    "    #for line in lines:\n",
    "    #    print line\n",
    "    return (lines)\n",
    "\n",
    "def getantimeridiancrossingtime2(timestr):\n",
    "    import math\n",
    "    import time\n",
    "    from datetime import datetime, timedelta\n",
    "    import ephem\n",
    "    import numpy as np\n",
    "    import sys, os\n",
    "    import pytz\n",
    "    from dateutil.parser import parse\n",
    "    \n",
    "    mydatenow=parse(timestr)\n",
    "    home = ephem.Observer()\n",
    "    home.date=mydatenow\n",
    "    delta_min=timedelta(minutes=1)\n",
    "    radtodeg=180/np.pi\n",
    "\n",
    "    lines=scrapetle()\n",
    "    # http://spaceflight.nasa.gov/realdata/sightings/SSapplications/Post/JavaSSOP/orbit/ISS/SVPOST.html\n",
    "    iss = ephem.readtle(lines[0], lines[1], lines[2])\n",
    "    \n",
    "    angle=+178\n",
    "    angleold=179.99999\n",
    "    i=0\n",
    "    while angle < angleold:        \n",
    "    #for i in range(0,10):\n",
    "        i=i+1\n",
    "        mydatenow=parse(timestr)-delta_min*i\n",
    "        #print (mydatenow)\n",
    "        angleold=angle+0.0\n",
    "        home.date=mydatenow\n",
    "        timeold=mydatenow+timedelta(minutes=1)\n",
    "        iss.compute(home)        \n",
    "        angle=iss.sublong*radtodeg\n",
    "        print mydatenow, angle, angleold\n",
    "\n",
    "    return (timeold)\n",
    "    \n",
    "    \n"
   ]
  },
  {
   "cell_type": "code",
   "execution_count": 22,
   "metadata": {
    "collapsed": false
   },
   "outputs": [],
   "source": [
    "from datetime import datetime, timedelta\n",
    "\n",
    "date = datetime.utcnow()\n",
    "#date=datestrings[0]\n",
    "\n",
    "import pytz\n",
    "#utc_dt = date.astimezone (pytz.utc)\n",
    "utc_dt = date.replace(tzinfo=None)"
   ]
  },
  {
   "cell_type": "code",
   "execution_count": 23,
   "metadata": {
    "collapsed": false
   },
   "outputs": [
    {
     "name": "stdout",
     "output_type": "stream",
     "text": [
      "2016-07-07 11:11:18.148984 -66.9431621685 178.0\n",
      "2016-07-07 11:10:18.148984 -72.374330521 -66.9431621685\n",
      "2016-07-07 11:09:18.148984 -77.5144303621 -72.374330521\n",
      "2016-07-07 11:08:18.148984 -82.3431282185 -77.5144303621\n",
      "2016-07-07 11:07:18.148984 -86.8564284295 -82.3431282185\n",
      "2016-07-07 11:06:18.148984 -91.0627799393 -86.8564284295\n",
      "2016-07-07 11:05:18.148984 -94.9791694283 -91.0627799393\n",
      "2016-07-07 11:04:18.148984 -98.6277676904 -94.9791694283\n",
      "2016-07-07 11:03:18.148984 -102.033340992 -98.6277676904\n",
      "2016-07-07 11:02:18.148984 -105.2214479 -102.033340992\n",
      "2016-07-07 11:01:18.148984 -108.217223512 -105.2214479\n",
      "2016-07-07 11:00:18.148984 -111.044710092 -108.217223512\n",
      "2016-07-07 10:59:18.148984 -113.726467756 -111.044710092\n",
      "2016-07-07 10:58:18.148984 -116.283506167 -113.726467756\n",
      "2016-07-07 10:57:18.148984 -118.735270871 -116.283506167\n",
      "2016-07-07 10:56:18.148984 -121.099800399 -118.735270871\n",
      "2016-07-07 10:55:18.148984 -123.393883357 -121.099800399\n",
      "2016-07-07 10:54:18.148984 -125.633270159 -123.393883357\n",
      "2016-07-07 10:53:18.148984 -127.83287794 -125.633270159\n",
      "2016-07-07 10:52:18.148984 -130.007009115 -127.83287794\n",
      "2016-07-07 10:51:18.148984 -132.16956995 -130.007009115\n",
      "2016-07-07 10:50:18.148984 -134.334289124 -132.16956995\n",
      "2016-07-07 10:49:18.148984 -136.514895318 -134.334289124\n",
      "2016-07-07 10:48:18.148984 -138.725404081 -136.514895318\n",
      "2016-07-07 10:47:18.148984 -140.980254432 -138.725404081\n",
      "2016-07-07 10:46:18.148984 -143.294568409 -140.980254432\n",
      "2016-07-07 10:45:18.148984 -145.684342317 -143.294568409\n",
      "2016-07-07 10:44:18.148984 -148.166665288 -145.684342317\n",
      "2016-07-07 10:43:18.148984 -150.759924191 -148.166665288\n",
      "2016-07-07 10:42:18.148984 -153.483940236 -150.759924191\n",
      "2016-07-07 10:41:18.148984 -156.360064593 -153.483940236\n",
      "2016-07-07 10:40:18.148984 -159.411164737 -156.360064593\n",
      "2016-07-07 10:39:18.148984 -162.661460518 -159.411164737\n",
      "2016-07-07 10:38:18.148984 -166.136059711 -162.661460518\n",
      "2016-07-07 10:37:18.148984 -169.860111073 -166.136059711\n",
      "2016-07-07 10:36:18.148984 -173.857492945 -169.860111073\n",
      "2016-07-07 10:35:18.148984 -178.148695895 -173.857492945\n",
      "2016-07-07 10:34:18.148984 177.251892057 -178.148695895\n"
     ]
    }
   ],
   "source": [
    "timestr=utc_dt.isoformat()\n",
    "\n",
    "alpha=getantimeridiancrossingtime2(timestr)"
   ]
  },
  {
   "cell_type": "code",
   "execution_count": 24,
   "metadata": {
    "collapsed": false
   },
   "outputs": [
    {
     "name": "stdout",
     "output_type": "stream",
     "text": [
      "2016-07-07 10:35:18.148984\n"
     ]
    }
   ],
   "source": [
    "print alpha"
   ]
  },
  {
   "cell_type": "code",
   "execution_count": null,
   "metadata": {
    "collapsed": true
   },
   "outputs": [],
   "source": []
  }
 ],
 "metadata": {
  "kernelspec": {
   "display_name": "Python 2",
   "language": "python",
   "name": "python2"
  },
  "language_info": {
   "codemirror_mode": {
    "name": "ipython",
    "version": 2
   },
   "file_extension": ".py",
   "mimetype": "text/x-python",
   "name": "python",
   "nbconvert_exporter": "python",
   "pygments_lexer": "ipython2",
   "version": "2.7.12"
  }
 },
 "nbformat": 4,
 "nbformat_minor": 0
}
