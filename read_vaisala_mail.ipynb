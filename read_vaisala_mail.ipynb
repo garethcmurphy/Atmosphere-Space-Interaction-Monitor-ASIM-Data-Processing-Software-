{
 "cells": [
  {
   "cell_type": "code",
   "execution_count": 21,
   "metadata": {
    "collapsed": false
   },
   "outputs": [],
   "source": [
    "def read_postgres_vaisala (tbeg, tend, limit):\n",
    "    import psycopg2\n",
    "    import sys\n",
    "    import numpy as np\n",
    "\n",
    "\n",
    "    con = None\n",
    "\n",
    "    try:\n",
    "\n",
    "        con = psycopg2.connect(host='asdc.space.dtu.dk', database='gld', user='gmurphy', password='j-l%CHB2Za') \n",
    "        cur = con.cursor()\n",
    "        cur.execute(\"SET TIME ZONE 'UTC';\")  # UTC \n",
    "        cur.execute(\"SELECT * FROM lightnings LIMIT 0\")\n",
    "        colnames = [desc[0] for desc in cur.description]\n",
    "        cur.execute(\"SELECT * FROM lightnings WHERE ltime   BETWEEN '\"+tbeg+\"' AND '\"+tend+\"' ORDER BY ltime ASC, ltime_ns  LIMIT '\"+limit+\"' ;\")          \n",
    "        data =   (cur.fetchall())\n",
    "\n",
    "        #for row in rows:\n",
    "        #    print (row)\n",
    "\n",
    "    except :\n",
    "        print ('Error could not connect to database'     )\n",
    "        sys.exit(1)\n",
    "\n",
    "\n",
    "    finally:\n",
    "\n",
    "        if con:\n",
    "            con.close()\n",
    "\n",
    "\n",
    "    from numpy import array\n",
    "    nparr = array( data )\n",
    "    print ('npar.shape' ,nparr.shape)\n",
    "    #id=nparr[:,0]\n",
    "    datestrings=nparr[:,0]\n",
    "    timestrings=nparr[:,1].astype(int)\n",
    "    magnitudes=nparr[:,2].astype(float)\n",
    "    lats=nparr[:,3].astype(float)\n",
    "    lons=nparr[:,4].astype(float)\n",
    "    print data\n",
    "    \n",
    "    return datestrings, timestrings, lats, lons, magnitudes\n",
    "\n",
    "\n",
    "\n",
    "def mail_log (title, data):\n",
    "    # Import smtplib for the actual sending function\n",
    "    import smtplib\n",
    "\n",
    "    # Import the email modules we'll need\n",
    "    from email.mime.text import MIMEText\n",
    "\n",
    "    # Open a plain text file for reading.  For this example, assume that\n",
    "    # the text file contains only ASCII characters.\n",
    "    #textfile=\"test.log\"\n",
    "    #fp = open(textfile, 'rb')\n",
    "    # Create a text/plain message\n",
    "    msg = MIMEText(data)\n",
    "    #fp.close()\n",
    "\n",
    "    me = \"gmurphy@space.dtu.dk\"\n",
    "    you = \"krithe@space.dtu.dk\"\n",
    "    you = \"garethcmurphy@gmail.com\"\n",
    "    msg['Subject'] = title\n",
    "    msg['From'] = me\n",
    "    msg['To'] = you\n",
    "\n",
    "    # Send the message via our own SMTP server, but don't include the\n",
    "    # envelope header.\n",
    "    s = smtplib.SMTP('mgw.spacecenter.dk')\n",
    "    s.sendmail(me, [you], msg.as_string())\n",
    "    s.quit()\n",
    "    \n",
    "\n",
    "\n",
    "    "
   ]
  },
  {
   "cell_type": "code",
   "execution_count": 6,
   "metadata": {
    "collapsed": false
   },
   "outputs": [
    {
     "name": "stdout",
     "output_type": "stream",
     "text": [
      "[ datetime.datetime(2016, 8, 9, 10, 28, 27, tzinfo=psycopg2.tz.FixedOffsetTimezone(offset=0, name=None))\n",
      " datetime.datetime(2016, 8, 9, 10, 28, 27, tzinfo=psycopg2.tz.FixedOffsetTimezone(offset=0, name=None))\n",
      " datetime.datetime(2016, 8, 9, 10, 28, 27, tzinfo=psycopg2.tz.FixedOffsetTimezone(offset=0, name=None))\n",
      " datetime.datetime(2016, 8, 9, 10, 28, 27, tzinfo=psycopg2.tz.FixedOffsetTimezone(offset=0, name=None))\n",
      " datetime.datetime(2016, 8, 9, 10, 28, 27, tzinfo=psycopg2.tz.FixedOffsetTimezone(offset=0, name=None))\n",
      " datetime.datetime(2016, 8, 9, 10, 28, 27, tzinfo=psycopg2.tz.FixedOffsetTimezone(offset=0, name=None))\n",
      " datetime.datetime(2016, 8, 9, 10, 28, 27, tzinfo=psycopg2.tz.FixedOffsetTimezone(offset=0, name=None))\n",
      " datetime.datetime(2016, 8, 9, 10, 28, 27, tzinfo=psycopg2.tz.FixedOffsetTimezone(offset=0, name=None))\n",
      " datetime.datetime(2016, 8, 9, 10, 28, 27, tzinfo=psycopg2.tz.FixedOffsetTimezone(offset=0, name=None))\n",
      " datetime.datetime(2016, 8, 9, 10, 28, 27, tzinfo=psycopg2.tz.FixedOffsetTimezone(offset=0, name=None))]\n"
     ]
    }
   ],
   "source": [
    "from datetime import date, datetime, timedelta\n",
    "import pytz\n",
    "a=datetime.utcnow()\n",
    "mydate=(a.strftime(\"%Y-%m-%d %t\"))\n",
    "tend=a\n",
    "tbeg=tend-timedelta(minutes=60)\n",
    "tbegstr=tbeg.strftime(\"%Y-%m-%d %H:%M:%S\")\n",
    "tendstr=tend.strftime(\"%Y-%m-%d %H:%M:%S\")\n",
    "print (\"Fetching data from asdc\", str(datetime.now()))\n",
    "#\n",
    "limitstr=str(10)\n",
    "datestrings, timestrings, lats, lons, magnitudes=read_postgres_vaisala(tbegstr, tendstr, limitstr)\n",
    "\n",
    "timenow=datetime.utcnow()\n",
    "\n",
    "utc_dt = datestrings[0].astimezone (pytz.utc)\n",
    "\n",
    "utc_dt = utc_dt.replace(tzinfo=None)\n",
    "if ( utc_dt-timenow) < timedelta(hours=2):\n",
    "    print \"within reasonable time\"\n",
    "    data=\n",
    "    mail_log (\"vaisala working\", data)\n",
    "else:\n",
    "    print \"missing date\"\n",
    "    mail_log (\"vaisala problem\", \"missing data\")"
   ]
  },
  {
   "cell_type": "code",
   "execution_count": 46,
   "metadata": {
    "collapsed": false
   },
   "outputs": [
    {
     "name": "stdout",
     "output_type": "stream",
     "text": [
      "['a', 'c', 'b', 'd']\n",
      "2016-08-09T10:38:17+00:00\t|15932444\t|12.0944\t|\t-89.7555\t|\t5.0\n",
      "\n",
      "2016-08-09T10:38:17+00:00\t|34685066\t|26.4071\t|\t-68.844\t|\t-9.0\n",
      "\n",
      "2016-08-09T10:38:17+00:00\t|40557845\t|18.9472\t|\t116.2319\t|\t4.0\n",
      "\n",
      "2016-08-09T10:38:17+00:00\t|53254966\t|7.5494\t|\t81.0855\t|\t5.0\n",
      "\n",
      "2016-08-09T10:38:17+00:00\t|68014822\t|62.7566\t|\t61.0495\t|\t16.0\n",
      "\n",
      "2016-08-09T10:38:17+00:00\t|69853558\t|33.1879\t|\t114.0665\t|\t-19.0\n",
      "\n",
      "2016-08-09T10:38:17+00:00\t|95501203\t|23.3839\t|\t106.6223\t|\t-7.0\n",
      "\n",
      "2016-08-09T10:38:17+00:00\t|97765985\t|60.3736\t|\t57.4807\t|\t-11.0\n",
      "\n",
      "2016-08-09T10:38:17+00:00\t|123134460\t|22.8378\t|\t85.6706\t|\t-7.0\n",
      "\n",
      "2016-08-09T10:38:17+00:00\t|127005888\t|24.8924\t|\t113.6631\t|\t10.0\n",
      "\n",
      "['2016-08-09T10:38:17+00:00\\t|15932444\\t|12.0944\\t|\\t-89.7555\\t|\\t5.0\\n', '2016-08-09T10:38:17+00:00\\t|34685066\\t|26.4071\\t|\\t-68.844\\t|\\t-9.0\\n', '2016-08-09T10:38:17+00:00\\t|40557845\\t|18.9472\\t|\\t116.2319\\t|\\t4.0\\n', '2016-08-09T10:38:17+00:00\\t|53254966\\t|7.5494\\t|\\t81.0855\\t|\\t5.0\\n', '2016-08-09T10:38:17+00:00\\t|68014822\\t|62.7566\\t|\\t61.0495\\t|\\t16.0\\n', '2016-08-09T10:38:17+00:00\\t|69853558\\t|33.1879\\t|\\t114.0665\\t|\\t-19.0\\n', '2016-08-09T10:38:17+00:00\\t|95501203\\t|23.3839\\t|\\t106.6223\\t|\\t-7.0\\n', '2016-08-09T10:38:17+00:00\\t|97765985\\t|60.3736\\t|\\t57.4807\\t|\\t-11.0\\n', '2016-08-09T10:38:17+00:00\\t|123134460\\t|22.8378\\t|\\t85.6706\\t|\\t-7.0\\n', '2016-08-09T10:38:17+00:00\\t|127005888\\t|24.8924\\t|\\t113.6631\\t|\\t10.0\\n']\n"
     ]
    }
   ],
   "source": [
    "str1=['a', 'c']\n",
    "str2=['b','d']\n",
    "a=str1+str2\n",
    "print a\n",
    "y=map(lambda x: x.isoformat(), datestrings)\n",
    "\n",
    "par=[]\n",
    "\n",
    "for item in zip(y,timestrings, lats, lons, magnitudes):\n",
    "    line=(\"{}\\t|{}\\t|{}\\t|\\t{}\\t|\\t{}\\n\".format(*item))\n",
    "    print line\n",
    "    par.append(line)\n",
    "\n",
    "print par"
   ]
  },
  {
   "cell_type": "code",
   "execution_count": 30,
   "metadata": {
    "collapsed": false
   },
   "outputs": [
    {
     "name": "stdout",
     "output_type": "stream",
     "text": [
      "[ 15932444  34685066  40557845  53254966  68014822  69853558  95501203\n",
      "  97765985 123134460 127005888]\n"
     ]
    }
   ],
   "source": [
    "print timestrings"
   ]
  },
  {
   "cell_type": "code",
   "execution_count": 32,
   "metadata": {
    "collapsed": false
   },
   "outputs": [
    {
     "name": "stdout",
     "output_type": "stream",
     "text": [
      "2016-08-09T10:38:17+00:00\n"
     ]
    }
   ],
   "source": [
    "print datestrings[0].isoformat()"
   ]
  },
  {
   "cell_type": "code",
   "execution_count": 34,
   "metadata": {
    "collapsed": false
   },
   "outputs": [
    {
     "name": "stdout",
     "output_type": "stream",
     "text": [
      "['2016-08-09T10:38:17+00:00', '2016-08-09T10:38:17+00:00', '2016-08-09T10:38:17+00:00', '2016-08-09T10:38:17+00:00', '2016-08-09T10:38:17+00:00', '2016-08-09T10:38:17+00:00', '2016-08-09T10:38:17+00:00', '2016-08-09T10:38:17+00:00', '2016-08-09T10:38:17+00:00', '2016-08-09T10:38:17+00:00']\n"
     ]
    }
   ],
   "source": [
    "\n",
    "print y"
   ]
  },
  {
   "cell_type": "code",
   "execution_count": null,
   "metadata": {
    "collapsed": true
   },
   "outputs": [],
   "source": []
  }
 ],
 "metadata": {
  "kernelspec": {
   "display_name": "Python 2",
   "language": "python",
   "name": "python2"
  },
  "language_info": {
   "codemirror_mode": {
    "name": "ipython",
    "version": 2
   },
   "file_extension": ".py",
   "mimetype": "text/x-python",
   "name": "python",
   "nbconvert_exporter": "python",
   "pygments_lexer": "ipython2",
   "version": "2.7.12"
  }
 },
 "nbformat": 4,
 "nbformat_minor": 0
}
