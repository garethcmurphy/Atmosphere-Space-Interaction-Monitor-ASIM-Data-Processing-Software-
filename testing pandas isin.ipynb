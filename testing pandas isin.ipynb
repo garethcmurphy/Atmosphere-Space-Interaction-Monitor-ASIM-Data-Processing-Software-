{
 "cells": [
  {
   "cell_type": "code",
   "execution_count": 1,
   "metadata": {
    "collapsed": false,
    "deletable": true,
    "editable": true
   },
   "outputs": [
    {
     "name": "stdout",
     "output_type": "stream",
     "text": [
      "   c1  c2\n",
      "0   A  10\n",
      "1   B  11\n",
      "2   C   8\n",
      "3   D  12\n",
      "10  A  41\n",
      "11  B  32\n",
      "12  C  19\n",
      "13  D  11 \n",
      "\n",
      "  c1   c2\n",
      "4  A   21\n",
      "5  B    7\n",
      "6  D   22\n",
      "7  D   15\n",
      "8  C  111\n",
      "9  D   50\n"
     ]
    }
   ],
   "source": [
    "import pandas as pd\n",
    "import re\n",
    "\n",
    "df = pd.read_csv('/Users/garmu/Desktop/c1', header=None, names=['c1','c2'])\n",
    "l1=[]\n",
    "for a in re.finditer('ABCD', ''.join(df.c1.tolist())):\n",
    "    l1.append(range(a.start(),a.end()))\n",
    "l2 = [b for a in l1 for b in a]\n",
    "print df[df.index.isin(l2)], '\\n'\n",
    "print df[~df.index.isin(l2)]"
   ]
  },
  {
   "cell_type": "code",
   "execution_count": 3,
   "metadata": {
    "collapsed": false,
    "deletable": true,
    "editable": true
   },
   "outputs": [
    {
     "name": "stdout",
     "output_type": "stream",
     "text": [
      "[[0, 1, 2, 3], [10, 11, 12, 13]]\n"
     ]
    }
   ],
   "source": [
    "print l1\n"
   ]
  },
  {
   "cell_type": "code",
   "execution_count": null,
   "metadata": {
    "collapsed": true,
    "deletable": true,
    "editable": true
   },
   "outputs": [],
   "source": []
  }
 ],
 "metadata": {
  "kernelspec": {
   "display_name": "Python 3",
   "language": "python",
   "name": "python3"
  },
  "language_info": {
   "codemirror_mode": {
    "name": "ipython",
    "version": 3
   },
   "file_extension": ".py",
   "mimetype": "text/x-python",
   "name": "python",
   "nbconvert_exporter": "python",
   "pygments_lexer": "ipython3",
   "version": "3.4.6"
  }
 },
 "nbformat": 4,
 "nbformat_minor": 1
}
