{
 "cells": [
  {
   "cell_type": "code",
   "execution_count": 32,
   "metadata": {
    "collapsed": true
   },
   "outputs": [],
   "source": [
    "# take a cdf file\n",
    "# read it in and plot\n",
    "# then write to separate binary files\n",
    "# then read it back in and plot \n",
    "\n",
    "%matplotlib inline\n",
    "import numpy as np\n",
    "import matplotlib.pyplot as plt"
   ]
  },
  {
   "cell_type": "code",
   "execution_count": 33,
   "metadata": {
    "collapsed": false
   },
   "outputs": [
    {
     "name": "stdout",
     "output_type": "stream",
     "text": [
      "[[0, 1, 2, 3, 4, 5, 6, 7, 8, 9]]\n",
      "[[0, 1], [2, 3, 4], [5, 6], [7, 8, 9]]\n",
      "[[0], [1], [2], [3, 4], [5], [6], [7], [8, 9]]\n"
     ]
    }
   ],
   "source": [
    "def split_list(alist, wanted_parts=1):\n",
    "    length = len(alist)\n",
    "    return [ alist[i*length // wanted_parts: (i+1)*length // wanted_parts] \n",
    "             for i in range(wanted_parts) ]\n",
    "\n",
    "A = [0,1,2,3,4,5,6,7,8,9]\n",
    "\n",
    "print (split_list(A, wanted_parts=1))\n",
    "print (split_list(A, wanted_parts=4))\n",
    "print (split_list(A, wanted_parts=8))"
   ]
  },
  {
   "cell_type": "code",
   "execution_count": 34,
   "metadata": {
    "collapsed": true
   },
   "outputs": [],
   "source": [
    "def chunks(l, n):\n",
    "    \"\"\"Yield successive n-sized chunks from l.\"\"\"\n",
    "    for i in xrange(0, len(l), n):\n",
    "        yield l[i:i+n]"
   ]
  },
  {
   "cell_type": "code",
   "execution_count": 35,
   "metadata": {
    "collapsed": false
   },
   "outputs": [],
   "source": [
    "def rect(T):\n",
    "    \"\"\"create a centered rectangular pulse of width $T\"\"\"\n",
    "    return lambda t: (-T/2 <= t) & (t < T/2)\n",
    "\n",
    "def pulse_train(t, at, shape):\n",
    "    \"\"\"create a train of pulses over $t at times $at and shape $shape\"\"\"\n",
    "    return np.sum(shape(t - at[:,np.newaxis]), axis=0)\n",
    "\n",
    "sig = pulse_train(\n",
    "    t=np.arange(100),              # time domain\n",
    "    at=np.array([0, 10, 40, 80]),  # times of pulses\n",
    "    shape=rect(3)                 # shape of pulse\n",
    ")"
   ]
  },
  {
   "cell_type": "code",
   "execution_count": 36,
   "metadata": {
    "collapsed": false
   },
   "outputs": [
    {
     "data": {
      "text/plain": [
       "[<matplotlib.lines.Line2D at 0x10cde7ef0>]"
      ]
     },
     "execution_count": 36,
     "metadata": {},
     "output_type": "execute_result"
    },
    {
     "data": {
      "image/png": "[encoded data removed]",
      "text/plain": [
       "<matplotlib.figure.Figure at 0x10caebeb8>"
      ]
     },
     "metadata": {},
     "output_type": "display_data"
    }
   ],
   "source": [
    "plt.plot (sig)"
   ]
  },
  {
   "cell_type": "code",
   "execution_count": 37,
   "metadata": {
    "collapsed": false
   },
   "outputs": [
    {
     "name": "stdout",
     "output_type": "stream",
     "text": [
      "0b0000100100100100\n",
      "0b0100000000000101\n",
      "0b0000010110100010\n"
     ]
    }
   ],
   "source": [
    "from bitstring import BitArray\n",
    "from bitstring import Bits\n",
    "from bitstring import BitStream\n",
    "from bitstring import ConstBitStream\n",
    "\n",
    "\n",
    "\n",
    "VersionNo          =BitArray('0b000')\n",
    "TypeInd            =BitArray('0b0')\n",
    "PackSecHdrFlag     =BitArray('0b1')\n",
    "Apid               =BitArray('0b00100100100')\n",
    "SequenceFlags      =BitArray('0b01')\n",
    "SourceSequencCount =BitArray(int=5, length=14)\n",
    "PacketDataLength   =Bits(int=1442, length=16)\n",
    "PacketSecHeader    =Bits(int=12, length=16)\n",
    "SourceData         =Bits(int=12, length=1442)\n",
    "\n",
    "FirstSestet = VersionNo\n",
    "PacketId = TypeInd\n",
    "PacketId += PackSecHdrFlag\n",
    "PacketId += Apid\n",
    "\n",
    "FirstSestet += PacketId\n",
    "\n",
    "\n",
    "PacketSecControl=SequenceFlags+SourceSequencCount\n",
    "\n",
    "FirstSestet.bin\n",
    "\n",
    "print(FirstSestet.bin)\n",
    "print(PacketSecControl.bin)\n",
    "print(PacketDataLength.bin)\n",
    "\n",
    "\n",
    "Header=FirstSestet\n",
    "Header += PacketSecControl\n",
    "Header += PacketDataLength\n",
    "\n",
    "\n",
    "\n",
    "file='ccsds2.bin'\n",
    "with open(file,'wb') as f:\n",
    "    FirstSestet.tofile(f)\n",
    "    PacketSecControl.tofile(f)\n",
    "    PacketDataLength.tofile(f)\n"
   ]
  },
  {
   "cell_type": "code",
   "execution_count": 150,
   "metadata": {
    "collapsed": false
   },
   "outputs": [
    {
     "name": "stdout",
     "output_type": "stream",
     "text": [
      "size 1450\n",
      "[0 0 0 ..., 0 0 0]\n",
      "fullsize  7250\n",
      "5\n",
      "850\n",
      "use bitstring to bitpack the data\n",
      "create file  ccsds_packed_bits0001.dat\n",
      " - write header, data to file\n",
      "create file  ccsds_packed_bits0002.dat\n",
      " - write header, data to file\n",
      "create file  ccsds_packed_bits0003.dat\n",
      " - write header, data to file\n",
      "create file  ccsds_packed_bits0004.dat\n",
      " - write header, data to file\n",
      "create file  ccsds_packed_bits0005.dat\n",
      " - write header, data to file\n"
     ]
    },
    {
     "data": {
      "image/png": "[encoded data removed]",
      "text/plain": [
       "<matplotlib.figure.Figure at 0x10d60ad68>"
      ]
     },
     "metadata": {},
     "output_type": "display_data"
    }
   ],
   "source": [
    "# declare 2d array of sample data\n",
    "\n",
    "\n",
    "\n",
    "import numpy as np\n",
    "\n",
    "def makeGaussian(size, fwhm = 3, center=None):\n",
    "    \"\"\" Make a square gaussian kernel.\n",
    "    size is the length of a side of the square\n",
    "    fwhm is full-width-half-maximum, which\n",
    "    can be thought of as an effective radius.\n",
    "    \"\"\"\n",
    "\n",
    "    x = np.arange(0, size, 1, float)\n",
    "    y = x[:,np.newaxis]\n",
    "    \n",
    "    if center is None:\n",
    "        x0 = y0 = size // 2\n",
    "    else:\n",
    "        x0 = center[0]\n",
    "        y0 = center[1]\n",
    "    \n",
    "    return np.exp(-4*np.log(2) * ((x-x0)**2 + (y-y0)**2) / fwhm**2)\n",
    "\n",
    "a=makeGaussian(80,fwhm = 70, center=None)\n",
    "a=4094*a.astype(int)\n",
    "\n",
    "a.size\n",
    "#a=np.eye(80,80)\n",
    "\n",
    "\n",
    "plt.imshow(a)\n",
    "\n",
    "size=1450\n",
    "\n",
    "print ('size',size)\n",
    "\n",
    "# flatten 2d array into 1d array\n",
    "\n",
    "b=np.ravel(a)\n",
    "print (b)\n",
    "\n",
    "# break up into subsections \n",
    "\n",
    "lenb=len(b)\n",
    "\n",
    "numfiles=int (np.ceil(lenb*1.0/size))\n",
    "\n",
    "fullsize=size*numfiles\n",
    "\n",
    "\n",
    "print (\"fullsize \",fullsize)\n",
    "print (numfiles)\n",
    "\n",
    "diff=fullsize-lenb\n",
    "print (diff)\n",
    "zerodiff=np.zeros(diff)\n",
    "\n",
    "\n",
    "# pad/extend file to fit exactly into required \n",
    "# space\n",
    "c=np.append(b, zerodiff )\n",
    "\n",
    "\n",
    "# take each element and pack it into 12 bits each\n",
    "# 12*8 = 6*16 bits = 96 bits\n",
    "# saves 25% of space\n",
    "\n",
    "\n",
    "print (\"use bitstring to bitpack the data\")\n",
    "\n",
    "import bitstring as bs\n",
    "\n",
    "# create foramt string, unsigned int (uint) 12 bits long\n",
    "format=str(size)+'*(uint:12)'\n",
    "data_arr=range(size)\n",
    "\n",
    "# test the packing function\n",
    "e = bs.pack(format,*data_arr) \n",
    "\n",
    "\n",
    "for i in range(0, numfiles ):\n",
    "    filename=\"ccsds_packed_bits\"+str(i+1).zfill(4)+\".dat\" \n",
    "    print (\"create file \"+\" \"+filename)\n",
    "    format=str(size)+'*(uint:12)'\n",
    "    data_arr=c[i*size:(i+1)*size]\n",
    "    packedbits = bs.pack(format,*data_arr)\n",
    "    \n",
    "    VersionNo          =BitArray('0b000')\n",
    "    TypeInd            =BitArray('0b0')\n",
    "    PackSecHdrFlag     =BitArray('0b1')\n",
    "    Apid               =BitArray('0b00100100100')\n",
    "    SequenceFlags      =BitArray('0b01')\n",
    "    SourceSequencCount =BitArray(int=i, length=14)\n",
    "    LengthInOctets     =size*12//8\n",
    "    PacketDataLength   =Bits(int=LengthInOctets-1, length=16)\n",
    "    PacketSecHeader    =Bits(int=12, length=16)\n",
    "    SourceData         =Bits(int=12, length=1442)\n",
    "\n",
    "    FirstSestet = VersionNo\n",
    "    PacketId = TypeInd\n",
    "    PacketId += PackSecHdrFlag\n",
    "    PacketId += Apid\n",
    "\n",
    "    FirstSestet += PacketId\n",
    "\n",
    "\n",
    "    PacketSecControl=SequenceFlags+SourceSequencCount\n",
    "\n",
    "    #print (data_arr)\n",
    "    #print (packedbits)\n",
    "    print (\" - write header, data to file\")\n",
    "    with open(filename,'wb') as f:\n",
    "        FirstSestet.tofile(f)\n",
    "        PacketSecControl.tofile(f)\n",
    "        PacketDataLength.tofile(f)\n",
    "        PacketSecHeader.tofile(f)        \n",
    "        packedbits.tofile(f)\n",
    "        \n",
    "    \n",
    "\n",
    "\n"
   ]
  },
  {
   "cell_type": "code",
   "execution_count": 151,
   "metadata": {
    "collapsed": false
   },
   "outputs": [
    {
     "name": "stdout",
     "output_type": "stream",
     "text": [
      "read file  ccsds_packed_bits0001.dat\n",
      "2174\n",
      "0 0 1 292\n",
      "1 0 2174\n",
      "17400\n",
      "read file  ccsds_packed_bits0002.dat\n",
      "2174\n",
      "0 0 1 292\n",
      "1 1 2174\n",
      "17400\n",
      "read file  ccsds_packed_bits0003.dat\n",
      "2174\n",
      "0 0 1 292\n",
      "1 2 2174\n",
      "17400\n",
      "read file  ccsds_packed_bits0004.dat\n",
      "2174\n",
      "0 0 1 292\n",
      "1 3 2174\n",
      "17400\n",
      "read file  ccsds_packed_bits0005.dat\n",
      "2174\n",
      "0 0 1 292\n",
      "1 4 2174\n",
      "17400\n"
     ]
    },
    {
     "data": {
      "text/plain": [
       "<matplotlib.image.AxesImage at 0x10d93a278>"
      ]
     },
     "execution_count": 151,
     "metadata": {},
     "output_type": "execute_result"
    },
    {
     "data": {
      "image/png": "[encoded data removed]",
      "text/plain": [
       "<matplotlib.figure.Figure at 0x10d7f7fd0>"
      ]
     },
     "metadata": {},
     "output_type": "display_data"
    }
   ],
   "source": [
    "from bitstring import BitArray\n",
    "from bitstring import Bits\n",
    "from bitstring import BitStream\n",
    "from bitstring import ConstBitStream\n",
    "\n",
    "\n",
    "\n",
    "arr=[]\n",
    "\n",
    "for i in range(0, numfiles ):\n",
    "    import bitstring as bs\n",
    "    filename=\"ccsds_packed_bits\"+str(i+1).zfill(4)+\".dat\" \n",
    "    print (\"read file \"+\" \"+filename)\n",
    "    #data_arr=c[i*size:(i+1)*size]\n",
    "    #packedbits = bs.pack(format,*data_arr)\n",
    "    s = ConstBitStream(filename=filename)\n",
    "    VersionNo ,  TypeInd, PackSecHdrFlag,   Apid =s.readlist([3,1,1,11])\n",
    "    SequenceFlags ,SourceSequencCount, PacketDataLength =s.readlist([2,14,16])\n",
    "    print (PacketDataLength.uint)\n",
    "    PacketSecHeader ,  SourceData         =s.readlist('bin:16,bits')\n",
    "    print (VersionNo.uint, TypeInd.uint, PackSecHdrFlag.uint, Apid.uint)\n",
    "    print (SequenceFlags.uint ,SourceSequencCount.uint, PacketDataLength.uint)\n",
    "    LengthIn12BitInts=(PacketDataLength.uint+1)*8//12\n",
    "    format=str(LengthIn12BitInts)+'*(uint:12)'\n",
    "    print (SourceData.length)\n",
    "    unpackedbits=SourceData.unpack(format)\n",
    "    arr.append(unpackedbits)\n",
    "    #print (unpackedbits)\n",
    "    \n",
    "\n",
    "    \n",
    "im=np.asarray(arr)\n",
    "im=im.ravel()\n",
    "im2=im[0:80*80].copy()\n",
    "im2=np.reshape(im2,(80,80))\n",
    "plt.imshow(np.log10(im2+.1))"
   ]
  },
  {
   "cell_type": "code",
   "execution_count": 137,
   "metadata": {
    "collapsed": false
   },
   "outputs": [
    {
     "data": {
      "text/plain": [
       "7250"
      ]
     },
     "execution_count": 137,
     "metadata": {},
     "output_type": "execute_result"
    }
   ],
   "source": []
  },
  {
   "cell_type": "code",
   "execution_count": 140,
   "metadata": {
    "collapsed": false
   },
   "outputs": [
    {
     "name": "stdout",
     "output_type": "stream",
     "text": [
      "(7250,)\n"
     ]
    },
    {
     "data": {
      "text/plain": [
       "<matplotlib.image.AxesImage at 0x10d3cbba8>"
      ]
     },
     "execution_count": 140,
     "metadata": {},
     "output_type": "execute_result"
    },
    {
     "data": {
      "image/png": "[encoded data removed]",
      "text/plain": [
       "<matplotlib.figure.Figure at 0x10d300a20>"
      ]
     },
     "metadata": {},
     "output_type": "display_data"
    }
   ],
   "source": []
  },
  {
   "cell_type": "code",
   "execution_count": 142,
   "metadata": {
    "collapsed": false
   },
   "outputs": [
    {
     "data": {
      "text/plain": [
       "[<matplotlib.lines.Line2D at 0x10d4a9518>]"
      ]
     },
     "execution_count": 142,
     "metadata": {},
     "output_type": "execute_result"
    },
    {
     "data": {
      "image/png": "[encoded data removed]",
      "text/plain": [
       "<matplotlib.figure.Figure at 0x10d3eccc0>"
      ]
     },
     "metadata": {},
     "output_type": "display_data"
    }
   ],
   "source": [
    "plt.plot(im2[40,:])"
   ]
  },
  {
   "cell_type": "code",
   "execution_count": null,
   "metadata": {
    "collapsed": true
   },
   "outputs": [],
   "source": []
  }
 ],
 "metadata": {
  "kernelspec": {
   "display_name": "Python 2",
   "language": "python",
   "name": "python2"
  },
  "language_info": {
   "codemirror_mode": {
    "name": "ipython",
    "version": 2
   },
   "file_extension": ".py",
   "mimetype": "text/x-python",
   "name": "python",
   "nbconvert_exporter": "python",
   "pygments_lexer": "ipython2",
   "version": "2.7.11"
  }
 },
 "nbformat": 4,
 "nbformat_minor": 0
}
