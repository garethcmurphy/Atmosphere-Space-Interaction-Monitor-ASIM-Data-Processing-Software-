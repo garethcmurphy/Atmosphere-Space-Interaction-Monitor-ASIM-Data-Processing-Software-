{
 "cells": [
  {
   "cell_type": "code",
   "execution_count": 15,
   "metadata": {
    "collapsed": false
   },
   "outputs": [
    {
     "name": "stdout",
     "output_type": "stream",
     "text": [
      "Showing list of tables\n",
      "nadcam\n",
      "stocks\n",
      "dropping tables\n",
      "inserting \n",
      "Showing list of tables\n",
      "nadcam\n",
      "stocks\n"
     ]
    }
   ],
   "source": [
    "try:\n",
    "    import pymysql\n",
    "    pymysql.install_as_MySQLdb()\n",
    "except ImportError:\n",
    "    pass\n",
    "\n",
    "\n",
    "import MySQLdb\n",
    "db = MySQLdb.connect(host=\"localhost\",\n",
    "                 user=\"gmurphy\",\n",
    "                     passwd=\"dogs!88!DOGS\",\n",
    "                 db=\"asimdata\")\n",
    "\n",
    "\n",
    "\n",
    "\n",
    "c = db.cursor()\n",
    "\n",
    "c.execute(\"show tables\")\n",
    "\n",
    "print (\"Showing list of tables\")\n",
    "for (table_name,) in c:\n",
    "        print(table_name)\n",
    "\n",
    "        \n",
    "print ('dropping tables')\n",
    "\n",
    "c.execute(\"DROP TABLE IF EXISTS nadcam\")\n",
    "c.execute(\"DROP TABLE IF EXISTS stocks\")\n",
    "\n",
    "        \n",
    "c.execute('''CREATE TABLE nadcam\n",
    "             (date text, trig text, lev1 text, lev2 text, lat real, lon real, inst text, prev text, obsid real)''')\n",
    "\n",
    "print ('inserting ')\n",
    "c.execute('''CREATE TABLE stocks\n",
    "             (date text, trans text, symbol text, qty real, price real)''')\n",
    "\n",
    "\n",
    "c.execute(\"show tables\")\n",
    "\n",
    "print (\"Showing list of tables\")\n",
    "for (table_name,) in c:\n",
    "        print(table_name)"
   ]
  },
  {
   "cell_type": "code",
   "execution_count": 16,
   "metadata": {
    "collapsed": false
   },
   "outputs": [
    {
     "name": "stdout",
     "output_type": "stream",
     "text": [
      "Inserting a row of data\n",
      "10\n"
     ]
    }
   ],
   "source": [
    "\n",
    "\n",
    "\n",
    "# Create table\n",
    "\n",
    "\n",
    "\n",
    "# Insert a row of data\n",
    "c.execute(\"INSERT INTO stocks VALUES ('2006-01-05','sprite','RHAT',100,35.14)\")\n",
    "\n",
    "# Larger example that inserts many records at a time\n",
    "purchases = [('2006-03-28', 'bluejet', 'IBM', 1000, 45.00),\n",
    "             ('2006-04-05', 'bluejet', 'MSFT', 1000, 72.00),\n",
    "             ('2006-04-06', 'bluejet', 'IBM', 500, 53.00),\n",
    "            ]\n",
    "c.executemany('INSERT INTO stocks VALUES (%s,%s,%s,%s,%s)', purchases)\n",
    "\n",
    "\n",
    "\n",
    "#c.execute('''CREATE TABLE nadcam1 (dat text, trigger text, level0 text, level1 text,  long real, lat real)''')\n",
    "\n",
    "# Insert a row of data\n",
    "\n",
    "print (\"Inserting a row of data\")\n",
    "#c.execute(\"INSERT INTO nadcam1 VALUES ('2006-01-05','bluejet','level1.cdf', 'level2.cdf',55.27,12.14)\")\n",
    "\n",
    "# assemble level 0 cdf file from ccdsds data\n",
    "\n",
    "# make jpeg plot of timeseries/image\n",
    "\n",
    "# make level 2 cdf file \n",
    "\n",
    "# inject info into database\n",
    "\n",
    "date='2016-03-01'\n",
    "lev0='level0.cdf'\n",
    "lev1='level1.cdf'\n",
    "pth='asimdatafiles/2016/78/'\n",
    "trig='sprite'\n",
    "lon=55.27\n",
    "lat=12.17\n",
    "obsid=7771\n",
    "\n",
    "c.execute(\"INSERT INTO nadcam VALUES ('2016-03-01','sprite','level1.cdf', 'level2.cdf',55.27,12.1, 'nadcam1','asimdatafiles/2016/78/nadcam1.png','7771')\")\n",
    "\n",
    "\n",
    "busocdata = [\n",
    "             (date,trig,lev0, lev1,55.27,12.14, 'nadcam2' ,pth+'nadcam2.png' , obsid),\n",
    "             (date,trig,lev0, lev1,55.27,12.14, 'nadphot1',pth+'nadphot1.png', obsid),\n",
    "             (date,trig,lev0, lev1,55.27,12.14, 'nadphot2',pth+'nadphot1.png', obsid),\n",
    "             (date,trig,lev0, lev1,55.27,12.14, 'ramphot1',pth+'ramphot1.png', obsid),\n",
    "             (date,trig,lev0, lev1,55.27,12.14, 'ramphot2',pth+'ramphot2.png', obsid),\n",
    "             (date,trig,lev0, lev1,55.27,12.14, 'ramphot3',pth+'ramphot3.png', obsid),\n",
    "             (date,trig,lev0, lev1,55.27,12.14, 'ramphot4',pth+'ramphot4.png', obsid),\n",
    "             (date,trig,lev0, lev1,55.27,12.14, 'ramcam1' ,pth+'ramcam1.png' , obsid),\n",
    "             (date,trig,lev0, lev1,55.27,12.14, 'ramcam2' ,pth+'ramcam2.png' , obsid),\n",
    "            ]\n",
    "c.executemany('INSERT INTO nadcam VALUES (%s,%s,%s,%s,%s,%s,%s,%s, %s)', busocdata)\n",
    "\n",
    "\n",
    "\n",
    "\n",
    "\n",
    "# Save (commit) the changes\n",
    "db.commit()\n",
    "\n",
    "\n",
    "\n",
    "#for row in c.execute('SELECT * FROM stocks ORDER BY price'):\n",
    "#        print row\n",
    "\n",
    "trig='bluejet'\n",
    "obsid='7771'\n",
    "print c.execute(\"SELECT * FROM nadcam WHERE obsid = '%s'\" % obsid)\n",
    "\n",
    "# We can also close the connection if we are done with it.\n",
    "# Just be sure any changes have been committed or they will be lost.\n",
    "db.close()\n",
    "\n",
    "\n",
    "#myList = [1,2,3,4]\n",
    "#for row in myList:\n",
    "#   print row\n",
    "#   cur.execute(\"INSERT INTO table 'Table_Try' VALUES (%s)\" % row)\n",
    "\n",
    "        "
   ]
  },
  {
   "cell_type": "code",
   "execution_count": null,
   "metadata": {
    "collapsed": true
   },
   "outputs": [],
   "source": []
  }
 ],
 "metadata": {
  "kernelspec": {
   "display_name": "Python 3",
   "language": "python",
   "name": "python3"
  },
  "language_info": {
   "codemirror_mode": {
    "name": "ipython",
    "version": 3
   },
   "file_extension": ".py",
   "mimetype": "text/x-python",
   "name": "python",
   "nbconvert_exporter": "python",
   "pygments_lexer": "ipython3",
   "version": "3.4.4"
  }
 },
 "nbformat": 4,
 "nbformat_minor": 0
}
